{
 "cells": [
  {
   "cell_type": "markdown",
   "id": "cb000d8e-2e1a-45f0-998a-193405da6f0f",
   "metadata": {},
   "source": [
    "# MATH 441 Group 5 Project\n",
    "\n",
    "**Aziz, Mika, Spock**"
   ]
  },
  {
   "cell_type": "markdown",
   "id": "871d6ac2-30f4-46a8-aafa-27c525395052",
   "metadata": {},
   "source": [
    "## 1) Project Title: Assigning Employee to Shifts for a Financial Institution\n",
    "\n",
    "**Problem Statement:**\n",
    "\n",
    "How can we assign employees to suitable shifts in a financial institution to minimize labor costs while considering employee skill levels and salary?\n",
    "\n",
    "**Relevant Real-world Examples:**\n",
    "\n",
    "* Study how employee is assigned to shifts in banks or financial institutions.\n",
    "* Explore existing optimization algorithms applied to employee scheduling problems.\n",
    "\n",
    "**Data and Computations:**\n",
    "\n",
    " Data:\n",
    "* Employee skill level.\n",
    "* Employee training level.\n",
    "* Employee salary.\n",
    "\n",
    "**Note**: In search of a suitable dataset to apply this optimization on, we will attempt to find relevant employee scheduling information from local organizations like banks, investment firms and other financial institutions. There are of course some difficulties when it comes to obtaining said data:\n",
    "1. Companies might not release such data publicly\n",
    "2. Needed data might not be formatted as expected\n",
    "3. A lack of data in general on employee scheduling\n",
    "\n",
    "We will attempt to remedy this through a few methods, such as reaching out to companies to obtain anonymous data, generate data based on a few known paramater distributions etc.\n"
   ]
  },
  {
   "cell_type": "markdown",
   "id": "99911b2f",
   "metadata": {},
   "source": [
    "## 1.5) Setting Up the Environment\n",
    "\n",
    "But before we can start with the Data generation and LP solving procedures, we need to start by importing a few important libraries and modules, and performing any first-time setup necessary for the project."
   ]
  },
  {
   "cell_type": "markdown",
   "id": "a815455a",
   "metadata": {},
   "source": [
    "First, install any required libraries."
   ]
  },
  {
   "cell_type": "code",
   "execution_count": 1,
   "id": "734c33f3",
   "metadata": {},
   "outputs": [
    {
     "name": "stdout",
     "output_type": "stream",
     "text": [
      "Requirement already satisfied: numpy in c:\\users\\owner\\miniconda3\\envs\\comet\\lib\\site-packages (from -r requirements.txt (line 1)) (1.26.1)\n",
      "Requirement already satisfied: pulp in c:\\users\\owner\\miniconda3\\envs\\comet\\lib\\site-packages (from -r requirements.txt (line 2)) (2.8.0)\n"
     ]
    }
   ],
   "source": [
    "! pip3 install -r requirements.txt"
   ]
  },
  {
   "cell_type": "markdown",
   "id": "4a91097a",
   "metadata": {},
   "source": [
    "Now, let's import our common libraries."
   ]
  },
  {
   "cell_type": "code",
   "execution_count": 2,
   "id": "8149015c",
   "metadata": {},
   "outputs": [],
   "source": [
    "import numpy as np\n",
    "import random\n",
    "import csv\n",
    "import pulp"
   ]
  },
  {
   "cell_type": "markdown",
   "id": "8534a987",
   "metadata": {},
   "source": [
    "Finally, let's define and assign values where needed to any important constants and variables that are used globally within the project"
   ]
  },
  {
   "cell_type": "code",
   "execution_count": 3,
   "id": "7e0d26c0",
   "metadata": {},
   "outputs": [],
   "source": [
    "employees_data = []\n",
    "num_employees = 100\n",
    "num_shifts = 100\n",
    "\n",
    "skill_levels = {\"entry-level\": 0, \"junior\": 1, \"senior\": 2, \"manager\": 3}\n",
    "tasks_with_min_levels = {\n",
    "    \"Account opening\": 0,\n",
    "    \"Credit card application\": 0,\n",
    "    \"Loan Application\": 1,\n",
    "    \"Mortgage Consultation\": 2,\n",
    "    \"Retirement planning\": 2,\n",
    "    \"Financial advising\": 2,\n",
    "    \"Wealth management\": 3\n",
    "}\n",
    "\n",
    "distribution = {\n",
    "    \"entry-level\": 0.4,\n",
    "    \"junior\": 0.3,\n",
    "    \"senior\": 0.2,\n",
    "    \"manager\": 0.1\n",
    "}\n",
    "\n",
    "salary_weight = {\n",
    "    \"K\": 1000,\n",
    "    \"a\": 3,\n",
    "    \"b\": 5,\n",
    "    \"c\": 10,\n",
    "    \"d\": 35,\n",
    "}"
   ]
  },
  {
   "cell_type": "markdown",
   "id": "0202a4d8",
   "metadata": {},
   "source": [
    "## 2) Defining the parameters and variables of the scheduling problem"
   ]
  },
  {
   "cell_type": "markdown",
   "id": "d819cb09",
   "metadata": {},
   "source": [
    "Before we begin with the sovling of the integer programming problem at the core of our project, we need to first define our parameters and variables. The variables that we identify also need to be enumerated so we can use a python solver."
   ]
  },
  {
   "cell_type": "markdown",
   "id": "56326f9b-d8b5-417d-bb5c-61cf6246de10",
   "metadata": {},
   "source": [
    "First, we decide the employee skill levels, denoted as l, $0 \\leq l\\leq 3$, which also represent what shift they are authorized to do.\n",
    "- skill levels l:\n",
    "    - 0 - entry-level\n",
    "    - 1 - junior\n",
    "    - 2 - senior\n",
    "    - 3 - manager\n",
    "\n",
    "\n",
    "**Defining the types of shift S and what skill levels are needed**\n",
    "\n",
    "1. Account opening - entry \n",
    "2. Credit card application - entry \n",
    "3. Loan Application - junior \n",
    "4. Mortgage Consultation - senior \n",
    "5. retirement planning - senior\n",
    "6. financial advising - senior\n",
    "7. wealth management - manager\n",
    "\n",
    "**Defining employee skill levels**\n",
    "\n",
    "\n",
    "\n",
    "**Constraints**\n",
    "\n",
    "- An employee with entry-level skill cannot do a shift that requires junior level or higher\n",
    "- An employee with junior-level skill cannot do a shift that requires senior level or higher\n",
    "- An employee with senior-level skill cannot do a shift that requires manager level\n",
    "\n",
    "**Defining labor cost by training level of employee** "
   ]
  },
  {
   "cell_type": "markdown",
   "id": "d6a99d20-0d94-44eb-b3b2-1b67b69bf9b8",
   "metadata": {},
   "source": [
    "Each employee data is an array consisting of the following three elements:<br>\n",
    "\n",
    "#### Skill level:\n",
    "A number ranging from 0-3, representing what shifts they are authorized to do<br>\n",
    "#### Training level:\n",
    "An array consisting of 7 numbers ranging from 1-100, showing the training level of the employee on each shifts.<br>\n",
    "For those shifts that the employee is not authorized to do, the training level will be set to 0.<br>\n",
    "For example:<br>\n",
    "An entry-level employee will be something like [32,15,0,0,0,0,0];<br>\n",
    "and a senior employee will be something like [45,72,61,13,4,80,0].\n",
    "\n",
    "#### Salary:\n",
    "The salary of each employee is related to their training level.<br>\n",
    "Below is the salary formula I randomly make up:<br>\n",
    "$$\n",
    "\\text{Salary}=K + a\\times (\\text{Sum of Training level of shift 1,2}) + b\\times (\\text{Training level of shift 3}) + c\\times (\\text{Sum of Training level of shift 4,5,6}) + d\\times (\\text{Sum of Training level of shift 7})\n",
    "$$\n",
    "$$\n",
    "\\text{where $K,a,b,c,d$ are all real numbers, with $K$ as the base salary and $a,b,c,d$ as the weight on each type of shifts paid.}\n",
    "$$"
   ]
  },
  {
   "cell_type": "markdown",
   "id": "84945eb2-b67f-44cf-9a7f-62820e89386d",
   "metadata": {},
   "source": [
    "**To summuraise our problem,<br>\n",
    "we have a certain amount of all the 7 types of shifts that need to assign exactly 1 employee for each shift.**\n",
    "\n",
    "**We want to assign shifts to employees in such a way that for each shift,<br>\n",
    "we select employees with the highest training level for that shift,<br>\n",
    "then choose an employee with lowest salary among the selected employees to assign this employee to the shift,<br>\n",
    "aiming to minimize overall labor costs.**"
   ]
  },
  {
   "cell_type": "markdown",
   "id": "64e34dc0",
   "metadata": {},
   "source": [
    "## 3) Data"
   ]
  },
  {
   "cell_type": "markdown",
   "id": "00006343-5e7d-4481-a2f8-b2b6ec65de4f",
   "metadata": {},
   "source": [
    "**Employee data**"
   ]
  },
  {
   "cell_type": "code",
   "execution_count": 4,
   "id": "00a31094",
   "metadata": {},
   "outputs": [
    {
     "name": "stdout",
     "output_type": "stream",
     "text": [
      "First five employees:\n",
      "Employee 1: Skill Level - entry-level, Training level - [94, 37, 0, 0, 0, 0, 0], Salary - 1393\n",
      "Employee 2: Skill Level - junior, Training level - [52, 77, 90, 0, 0, 0, 0], Salary - 1837\n",
      "Employee 3: Skill Level - manager, Training level - [30, 43, 99, 55, 17, 96, 74], Salary - 5984\n",
      "Employee 4: Skill Level - entry-level, Training level - [49, 23, 0, 0, 0, 0, 0], Salary - 1216\n",
      "Employee 5: Skill Level - entry-level, Training level - [93, 76, 0, 0, 0, 0, 0], Salary - 1507\n",
      "\n",
      "Last five employees:\n",
      "Employee 1: Skill Level - entry-level, Training level - [69, 4, 0, 0, 0, 0, 0], Salary - 1219\n",
      "Employee 2: Skill Level - senior, Training level - [48, 47, 15, 87, 12, 45, 0], Salary - 2800\n",
      "Employee 3: Skill Level - entry-level, Training level - [73, 45, 0, 0, 0, 0, 0], Salary - 1354\n",
      "Employee 4: Skill Level - junior, Training level - [18, 87, 59, 0, 0, 0, 0], Salary - 1610\n",
      "Employee 5: Skill Level - junior, Training level - [99, 20, 45, 0, 0, 0, 0], Salary - 1582\n"
     ]
    }
   ],
   "source": [
    "def generate_employee_data_custom_distribution(num_employees, skill_levels, tasks_with_min_levels, salary_weight, distribution):\n",
    "\n",
    "    # Calculate the number of employees in each skill level based on the distribution\n",
    "    num_employees_distribution = {level: int(pct * num_employees) for level, pct in distribution.items()}\n",
    "    \n",
    "    # Adjust for any rounding differences to ensure the total count matches num_employees\n",
    "    while sum(num_employees_distribution.values()) < num_employees:\n",
    "        num_employees_distribution[random.choice(list(num_employees_distribution.keys()))] += 1\n",
    "        \n",
    "    # Generate data for each employee based on the distribution\n",
    "    for skill_level_label, count in num_employees_distribution.items():\n",
    "        skill_level = skill_levels[skill_level_label]\n",
    "        for _ in range(count):\n",
    "            training_level_array = []\n",
    "            for task, min_level in tasks_with_min_levels.items():\n",
    "                if skill_level >= min_level:\n",
    "                    training_level = random.randint(1, 100)  # Training levels range from 1 to 100\n",
    "                else:\n",
    "                    training_level = 0\n",
    "                training_level_array.append(training_level)\n",
    "            salary = salary_weight[\"K\"] + salary_weight[\"a\"] * (training_level_array[0]+training_level_array[1]) \\\n",
    "            + salary_weight[\"b\"] * (training_level_array[2]) \\\n",
    "            + salary_weight[\"c\"] * (training_level_array[3]+training_level_array[4]+training_level_array[5]) \\\n",
    "            + salary_weight[\"d\"] * (training_level_array[6])\n",
    "            employees_data.append((skill_level_label, training_level_array, salary))\n",
    "    \n",
    "    # Shuffle the data to mix skill levels\n",
    "    random.shuffle(employees_data)\n",
    "    \n",
    "    return employees_data\n",
    "\n",
    "employees_data = generate_employee_data_custom_distribution(num_employees, skill_levels, tasks_with_min_levels, salary_weight, distribution)\n",
    "\n",
    "# Output the first and last five employees\n",
    "first_five = employees_data[:5]\n",
    "last_five = employees_data[-5:]\n",
    "\n",
    "print(\"First five employees:\")\n",
    "for i, (skill, training_level, salary) in enumerate(first_five):\n",
    "    print(f\"Employee {i+1}: Skill Level - {skill}, Training level - {training_level}, Salary - {salary}\")\n",
    "\n",
    "print(\"\\nLast five employees:\")\n",
    "for i, (skill, training_level, salary) in enumerate(last_five):\n",
    "    print(f\"Employee {i+1}: Skill Level - {skill}, Training level - {training_level}, Salary - {salary}\")\n",
    "\n",
    "# Save to CSV file\n",
    "csv_file_path = \"employees_data.csv\"\n",
    "with open(csv_file_path, mode='w', newline='') as file:\n",
    "    writer = csv.writer(file)\n",
    "    writer.writerow([\"Skill Level\", \"Training level\", \"Salary\"])\n",
    "    for skill, training_level, salary in employees_data:\n",
    "        writer.writerow([skill, training_level, salary])\n"
   ]
  },
  {
   "cell_type": "markdown",
   "id": "e70b67e3",
   "metadata": {},
   "source": [
    "**Customer demand data**\n",
    "\n",
    "For each day, we need to decide how many customers demand for an appointment. Banks usually data from previous years to readily predict how many customers need employees with shift j in a day. Since we couldn't find any data related, we will generate a random number of customers for each shift depending on the distribution. We decided to distribute the shift j by 0.2, 0.15, 0.2, 0.1, 0.2, 0.1, 0.05 respectively."
   ]
  },
  {
   "cell_type": "code",
   "execution_count": 5,
   "id": "1ce36380",
   "metadata": {},
   "outputs": [
    {
     "name": "stdout",
     "output_type": "stream",
     "text": [
      "First five shift demand:\n",
      "Shift 1: Day - Monday, Shift - Wealth management, Shift Demand - 4\n",
      "Shift 2: Day - Wednesday, Shift - Financial advising, Shift Demand - 3\n",
      "Shift 3: Day - Monday, Shift - Financial advising, Shift Demand - 7\n",
      "Shift 4: Day - Thursday, Shift - Account opening, Shift Demand - 2\n",
      "Shift 5: Day - Monday, Shift - Retirement planning, Shift Demand - 14\n",
      "\n",
      "Last five shift demand:\n",
      "Shift 1: Day - Wednesday, Shift - Retirement planning, Shift Demand - 4\n",
      "Shift 2: Day - Tuesday, Shift - Account opening, Shift Demand - 7\n",
      "Shift 3: Day - Monday, Shift - Credit card application, Shift Demand - 10\n",
      "Shift 4: Day - Wednesday, Shift - Account opening, Shift Demand - 3\n",
      "Shift 5: Day - Tuesday, Shift - Credit card application, Shift Demand - 5\n"
     ]
    }
   ],
   "source": [
    "def generate_customer_data_custom_distribution(num_customer, days, distribution):\n",
    "    customer_data = []\n",
    "\n",
    "    for day, index in days.items():\n",
    "        # we would have a different number of customers demanded for each day from  1 to num_customer\n",
    "        num_customer = np.random.randint(1, num_customer)\n",
    "\n",
    "        # calculate the number of customer in shifts based on the distribution\n",
    "        num_customer_distribution = {shift: int(pct * num_customer) for shift, pct in distribution.items()}\n",
    "        \n",
    "        # Adjust for any rounding differences to ensure the total count matches num_employees\n",
    "        while sum(num_customer_distribution.values()) < num_customer:\n",
    "            num_customer_distribution[random.choice(list(num_customer_distribution.keys()))] += 1\n",
    "\n",
    "        # for each shift, get the distribution\n",
    "        for shift_label, count in num_customer_distribution.items():\n",
    "            customer_data.append((day, shift_label, count))\n",
    "    \n",
    "    # Shuffle the data to mix skill levels\n",
    "    random.shuffle(customer_data)\n",
    "    \n",
    "    return customer_data\n",
    "\n",
    "# Example usage\n",
    "days = {\"Monday\": 0, \n",
    "        \"Tuesday\": 1, \n",
    "        \"Wednesday\": 2, \n",
    "        \"Thursday\": 3,\n",
    "        \"Friday\": 4}\n",
    "\n",
    "distribution = {\n",
    "    \"Account opening\": 0.2,\n",
    "    \"Credit card application\": 0.15,\n",
    "    \"Loan Application\": 0.2,\n",
    "    \"Mortgage Consultation\": 0.1,\n",
    "    \"Retirement planning\": 0.2,\n",
    "    \"Financial advising\": 0.1,\n",
    "    \"Wealth management\": 0.05\n",
    "}\n",
    "\n",
    "num_customer = 100\n",
    "\n",
    "customer_data = generate_customer_data_custom_distribution(num_customer, days, distribution)\n",
    "\n",
    "# Output the first and last five customer\n",
    "first_five = customer_data[:5]\n",
    "last_five = customer_data[-5:]\n",
    "\n",
    "print(\"First five shift demand:\")\n",
    "for i, (day, shift, shift_demand) in enumerate(first_five):\n",
    "    print(f\"Shift {i+1}: Day - {day}, Shift - {shift}, Shift Demand - {shift_demand}\")\n",
    "\n",
    "print(\"\\nLast five shift demand:\")\n",
    "for i, (day, shift, shift_demand) in enumerate(last_five):\n",
    "    print(f\"Shift {i+1}: Day - {day}, Shift - {shift}, Shift Demand - {shift_demand}\")\n",
    "\n",
    "# Save to CSV file\n",
    "csv_file_path = \"customer_data.csv\"\n",
    "with open(csv_file_path, mode='w', newline='') as file:\n",
    "    writer = csv.writer(file)\n",
    "    writer.writerow([\"Day\", \"Shift\", \"Shift Demand\"])\n",
    "    for day, shift, shift_demand in customer_data:\n",
    "        writer.writerow([day, shift, shift_demand])"
   ]
  },
  {
   "cell_type": "markdown",
   "id": "1f2a6659-5159-4af4-9688-d36111ae17b1",
   "metadata": {},
   "source": [
    "## 3) Formulate the problem as a linear programming problem"
   ]
  },
  {
   "cell_type": "markdown",
   "id": "4a35abd0-e946-45ba-a266-f015418f3b04",
   "metadata": {},
   "source": [
    "**Decision variables:**<br>\n",
    "Let $x_{ij} \\in {0,1}$ be a binary variable, where $x_{ij} = 1$ if employee $i$ is assigned to shift $j$, and 0 otherwise.\n",
    "\n",
    "**Objective:**<br>\n",
    "Minimize the total labor cost, which is the sum of the salaries of the assigned employees:\n",
    "$$\n",
    "\\sum_i \\sum_j x_{ij} \\times \\text{Salary$_i$}\n",
    "$$\n",
    "$$\n",
    "\\text{where Salary$_i$ is the salary of employee $i$.}\n",
    "$$\n",
    "\n",
    "**Constraints:**\n",
    "\n",
    "1) Each shift must be assigned to exactly one employee:\n",
    "$$\n",
    "\\sum_i x_{ij} = 1 \\ , \\ \\ \\text{for all shifts} \\ j\n",
    "$$\n",
    "\n",
    "2) An employee can be assigned to at most one shift:\n",
    "$$\n",
    "\\sum_j x_{ij}  \\leq  1 \\ , \\ \\ \\text{for all employees} \\ i\n",
    "$$\n",
    "\n",
    "3) Ensure that only employees with the required skill level can be assigned to shifts:\n",
    "$$\n",
    "x_{ij} = 0 \\ , \\ \\ \\text{if employee $i$ does not have the required skull level for shift $j$}\n",
    "$$\n",
    "\n",
    "Now, incorporating the additional requirement of selecting the employee with the highest training level and lowest salary for each shift, we add the following constraints:\n",
    "\n",
    "4) For each shift, select the employee with the highest training level:\n",
    "$$\n",
    "\\sum_i t_{ij}\\times x_{ij} = \\max{\\{t_{i'j}| i'\\text{ has the required skill level for shift } j\\}}\n",
    "$$\n",
    "$$\n",
    "\\text{where $t_{ij}$ is the training level of employee $i$ for shift $j$.}\n",
    "$$\n",
    "\n",
    "4) Ensure that the selected employee has the lowest salary among those with the highest training level for each shift:\n",
    "$$\n",
    "\\sum_i s_{i}\\times x_{ij} = \\min{\\{s_{i'}| i'\\text{ has the highest training level for shift } j\\}}\n",
    "$$\n",
    "$$\n",
    "\\text{where $s_{i}$ is the salary of employee $i$.}\n",
    "$$\n",
    "\n",
    "\n",
    "\n"
   ]
  },
  {
   "cell_type": "code",
   "execution_count": null,
   "id": "2b48e309-2668-40ac-8072-36bb8c66422b",
   "metadata": {},
   "outputs": [],
   "source": [
    "# Create a LP minimization problem\n",
    "prob = pulp.LpProblem(\"Shift_Assignment\", pulp.LpMinimize)"
   ]
  },
  {
   "cell_type": "code",
   "execution_count": null,
   "id": "10c9e9bb-241f-4db3-80df-51a7159b203c",
   "metadata": {},
   "outputs": [],
   "source": [
    "# Create shifts data set\n",
    "# A shifts data set is an array containing of 7 integers summing up to 100,\n",
    "# indicating how many employee needs to be assigned for each seven type of shifts accordingly\n",
    "\n",
    "def generate_shifts(num_shifts=100):\n",
    "    proportions = np.random.random(7)\n",
    "    proportions /= proportions.sum()  # Normalize to sum to 1\n",
    "    shifts = np.round(proportions * num_shifts)  # Scale and round\n",
    "\n",
    "    while shifts.sum() != num_shifts:\n",
    "        difference = num_shifts - shifts.sum()\n",
    "        indices = np.arange(7)\n",
    "        np.random.shuffle(indices)  # Shuffle indices to distribute adjustments randomly\n",
    "        for i in indices:\n",
    "            if difference > 0 and shifts[i] < num_shifts:  # Need to add to the total\n",
    "                shifts[i] += 1\n",
    "                difference -= 1\n",
    "            elif difference < 0:  # Need to subtract from the total\n",
    "                if shifts[i] > 0:  # Avoid making any shift negative\n",
    "                    shifts[i] -= 1\n",
    "                    difference += 1\n",
    "            if difference == 0:\n",
    "                break\n",
    "\n",
    "    return shifts"
   ]
  },
  {
   "cell_type": "code",
   "execution_count": null,
   "id": "a71748ad",
   "metadata": {},
   "outputs": [],
   "source": [
    "# Generate the shifts data\n",
    "\n",
    "shifts_data = generate_shifts(num_shifts)\n",
    "print(shifts_data)"
   ]
  },
  {
   "cell_type": "code",
   "execution_count": null,
   "id": "dd0bd77a-5c37-4fb7-810c-6d1f8e4b84ad",
   "metadata": {},
   "outputs": [],
   "source": [
    "# Define binary decision variables\n",
    "# x_ij = 1 if employee i is assigned to shift j, 0 otherwise\n",
    "x = pulp.LpVariable.dicts(\"Assignment\", \n",
    "                          [(i, j) for i in range(num_employees) for j in range(num_shifts)], \n",
    "                          cat='Binary')"
   ]
  },
  {
   "cell_type": "code",
   "execution_count": null,
   "id": "129af3dc-2423-4dbb-9a9e-db52f772c8cf",
   "metadata": {},
   "outputs": [],
   "source": [
    "salaries = [employee[2] for employee in employees_data]\n",
    "# print(salaries)"
   ]
  },
  {
   "cell_type": "code",
   "execution_count": null,
   "id": "34699e87-c4db-4970-a281-d507e63abdd0",
   "metadata": {},
   "outputs": [],
   "source": [
    "# Define the objective function (total labor cost)\n",
    "prob += pulp.lpSum(x[i, j] * salaries[i] for i in range(num_employees) for j in range(num_shifts))\n",
    "\n",
    "# Constraint: Each shift must be assigned to exactly one employee\n",
    "for j in range(num_shifts):\n",
    "    prob += pulp.lpSum(x[i, j] for i in range(num_employees)) == 1\n",
    "\n",
    "# Constraint: An employee can be assigned to at most one shift\n",
    "for i in range(num_employees):\n",
    "    prob += pulp.lpSum(x[i, j] for j in range(num_shifts)) <= 1\n",
    "\n",
    "# Constraint: Ensure that only employees with the required skill level can be assigned to shifts\n",
    "for i in range(num_employees):\n",
    "    for j in range(num_shifts):\n",
    "        if skill_levels[i] < required_skill_levels[j]:\n",
    "            prob += x[i, j] == 0\n",
    "\n",
    "# Constraint: For each shift, select the employee with the highest training level\n",
    "for j in range(num_shifts):\n",
    "    prob += pulp.lpSum(training_levels[i][j] * x[i, j] for i in range(num_employees)) == max(training_levels[i][j] for i in range(num_employees) if skill_levels[i] >= required_skill_levels[j])\n",
    "\n",
    "# Constraint: Ensure that the selected employee has the lowest salary among those with the highest training level\n",
    "for j in range(num_shifts):\n",
    "    prob += pulp.lpSum(salaries[i] * x[i, j] for i in range(num_employees)) == min(salaries[i] for i in range(num_employees) if training_levels[i][j] == max(training_levels[i][j] for i in range(num_employees) if skill_levels[i] >= required_skill_levels[j]))"
   ]
  },
  {
   "cell_type": "code",
   "execution_count": null,
   "id": "015d2900-d2dd-40fb-b360-1f3dec7f4baa",
   "metadata": {},
   "outputs": [],
   "source": [
    "employees_data"
   ]
  }
 ],
 "metadata": {
  "kernelspec": {
   "display_name": "Python 3 (ipykernel)",
   "language": "python",
   "name": "python3"
  },
  "language_info": {
   "codemirror_mode": {
    "name": "ipython",
    "version": 3
   },
   "file_extension": ".py",
   "mimetype": "text/x-python",
   "name": "python",
   "nbconvert_exporter": "python",
   "pygments_lexer": "ipython3",
   "version": "3.11.5"
  }
 },
 "nbformat": 4,
 "nbformat_minor": 5
}
