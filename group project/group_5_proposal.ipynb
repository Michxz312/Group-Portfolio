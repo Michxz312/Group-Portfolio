{
 "cells": [
  {
   "cell_type": "markdown",
   "id": "cb000d8e-2e1a-45f0-998a-193405da6f0f",
   "metadata": {},
   "source": [
    "# MATH 441 Group 5 Project Proposal\n",
    "\n",
    "**Aziz, Mika, Spock**"
   ]
  },
  {
   "cell_type": "markdown",
   "id": "871d6ac2-30f4-46a8-aafa-27c525395052",
   "metadata": {},
   "source": [
    "## Project Title: Employee Scheduling for a Financial Institution\n",
    "\n",
    "**Problem Statement:**\n",
    "\n",
    "How can we optimize the scheduling of employees in a financial institution to minimize labor costs while ensuring customer demand is met and considering employee preferences and skill levels?\n",
    "\n",
    "**Relevant Real-world Examples:**\n",
    "\n",
    "* Study employee scheduling practices in banks or financial institutions.\n",
    "* Explore existing optimization algorithms applied to employee scheduling problems.\n",
    "\n",
    "**Data and Computations:**\n",
    "\n",
    " Data:\n",
    "* Employee availability and preferences.\n",
    "* Historical customer demand patterns.\n",
    "* Employee skill levels and qualifications.\n",
    "* Labor costs for different time slots.\n",
    "\n",
    " Computations:\n",
    "* Formulate the scheduling problem as an optimization model, considering constraints such as employee availability, customer demand, and skill requirements.\n",
    "* Try to explore and implement optimization algorithms in order to find the optimal schedule.\n",
    "* Validate the model using real or simulated data."
   ]
  },
  {
   "cell_type": "markdown",
   "id": "4a35abd0-e946-45ba-a266-f015418f3b04",
   "metadata": {},
   "source": [
    "**Parameters:**\n",
    "\n",
    "* There are $t$ time slots in a day $k = 0, \\dots, t-1$.\n",
    "* There are $d$ days in the scheduling period $l = 0, \\dots, d-1$.\n",
    "* There are $n$ employees $i = 0, \\dots, n-1$.\n",
    "* There are $s$ types of shifts $j = 0, \\dots, s-1$. The shifts starts from 9am to 5pm so $s=8$.\n",
    "* $P = [p_{ij}]$ where $p_{ij}$ is the preference score of employee $i$ for shift type $j$.\n",
    "\n",
    "**Decision variables:** Let $x_{ikl} \\in {0,1}$ be a binary variable, where $x_{ikl} = 1$ if employee $i$ is scheduled to work on day $l$ at time $k$, and 0 otherwise.\n",
    "\n",
    "**Objective:** Minimize the total labor cost:\n",
    "$$\n",
    "\\sum_l \\sum_k \\sum_i \\sum_j p_{ij}\\cdot x_{ikl}\n",
    "$$\n",
    "\n",
    "**Constraints:**\n",
    "\n",
    "Each employee is scheduled exactly once per day:\n",
    "$$\n",
    "\\sum_k x_{ikl} = 1 \\ , \\ \\ \\text{for each} \\ i,l \n",
    "$$\n",
    "\n",
    "All shifts must be covered:\n",
    "$$\n",
    "\\sum_i \\sum_l x_{ikl}  \\geq  \\text{Demand}_{jk} \\ , \\ \\ \\text{for each} \\ k,j \n",
    "$$\n",
    "\n",
    "Employee availability constraint:\n",
    "$$\n",
    "x_{ikl} = 0 \\ , \\ \\ \\text{if $i$ is not available at time $k$ on day $l$}\n",
    "$$\n",
    "\n",
    "Consistency with employee preferences:\n",
    "$$\n",
    "\\sum_k p_{ij}\\cdot x_{ikl} \\geq \\text{Preference}_{il} \\ , \\ \\ \\text{for each} \\ i,l\n",
    "$$\n",
    "\n",
    "No overlapping shifts for employees:\n",
    "$$\n",
    "\\sum_j x_{ikl} \\leq 1 \\ , \\ \\ \\text{for each} \\ i,k,l\n",
    "$$\n",
    "\n",
    "\n",
    "\n"
   ]
  },
  {
   "cell_type": "code",
   "execution_count": 1,
   "id": "f3fcc2e3-2c0d-41af-8627-5565a30aea24",
   "metadata": {},
   "outputs": [],
   "source": [
    "#changes"
   ]
  },
  {
   "cell_type": "code",
   "execution_count": null,
   "id": "cd8bc1c3",
   "metadata": {},
   "outputs": [],
   "source": []
  }
 ],
 "metadata": {
  "kernelspec": {
   "display_name": "Python 3 (ipykernel)",
   "language": "python",
   "name": "python3"
  },
  "language_info": {
   "codemirror_mode": {
    "name": "ipython",
    "version": 3
   },
   "file_extension": ".py",
   "mimetype": "text/x-python",
   "name": "python",
   "nbconvert_exporter": "python",
   "pygments_lexer": "ipython3",
   "version": "0.0.0"
  }
 },
 "nbformat": 4,
 "nbformat_minor": 5
}
