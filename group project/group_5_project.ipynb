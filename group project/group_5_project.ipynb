{
 "cells": [
  {
   "cell_type": "markdown",
   "id": "cb000d8e-2e1a-45f0-998a-193405da6f0f",
   "metadata": {},
   "source": [
    "# MATH 441 Group 5 Project\n",
    "\n",
    "**Aziz, Mika, Spock**"
   ]
  },
  {
   "cell_type": "markdown",
   "id": "871d6ac2-30f4-46a8-aafa-27c525395052",
   "metadata": {},
   "source": [
    "## Project Title: Employee Scheduling for a Financial Institution\n",
    "\n",
    "**Problem Statement:**\n",
    "\n",
    "How can we optimize the scheduling of employees in a financial institution to minimize labor costs while ensuring customer demand is met and considering employee preferences and skill levels?\n",
    "\n",
    "**Relevant Real-world Examples:**\n",
    "\n",
    "* Study employee scheduling practices in banks or financial institutions.\n",
    "* Explore existing optimization algorithms applied to employee scheduling problems.\n",
    "\n",
    "**Data and Computations:**\n",
    "\n",
    " Data:\n",
    "* Employee availability and preferences.\n",
    "* Historical customer demand patterns.\n",
    "* Employee skill levels and qualifications.\n",
    "* Labor costs for different time slots.\n",
    "\n",
    "**Note**: In search of a suitable dataset to apply this optimization on, we will attempt to find relevant employee scheduling information from local organizations like banks, investment firms and other financial institutions. There are of course some difficulties when it comes to obtaining said data:\n",
    "1. Companies might not release such data publicly\n",
    "2. Needed data might not be formatted as expected\n",
    "3. A lack of data in general on employee scheduling\n",
    "\n",
    "We will attempt to remedy this through a few methods, such as reaching out to companies to obtain anonymous data, generate data based on a few known paramater distributions etc.\n",
    "\n",
    " Computations:\n",
    "* Formulate the scheduling problem as an optimization model, considering constraints such as employee availability, customer demand, and skill requirements.\n",
    "* Try to explore and implement optimization algorithms in order to find the optimal schedule.\n",
    "* Validate the model using real or simulated data."
   ]
  },
  {
   "cell_type": "markdown",
   "id": "4a35abd0-e946-45ba-a266-f015418f3b04",
   "metadata": {},
   "source": [
    "**Parameters:**\n",
    "\n",
    "* There are $t$ time slots in a day $k = 0, \\dots, t-1$.\n",
    "* There are $d$ days in the scheduling period $l = 0, \\dots, d-1$.\n",
    "* There are $n$ employees $i = 0, \\dots, n-1$.\n",
    "* There are $s$ types of shifts $j = 0, \\dots, s-1$. The shifts starts from 9am to 5pm so $s=8$.\n",
    "* $P = [p_{ij}]$ where $p_{ij}$ is the preference score of employee $i$ for shift type $j$.\n",
    "\n",
    "**Decision variables:** Let $x_{ikl} \\in {0,1}$ be a binary variable, where $x_{ikl} = 1$ if employee $i$ is scheduled to work on day $l$ at time $k$, and 0 otherwise.\n",
    "\n",
    "**Objective:** Minimize the total labor cost:\n",
    "$$\n",
    "\\sum_l \\sum_k \\sum_i \\sum_j p_{ij}\\cdot x_{ikl}\n",
    "$$\n",
    "\n",
    "**Constraints:**\n",
    "\n",
    "Each employee is scheduled exactly once per day:\n",
    "$$\n",
    "\\sum_k x_{ikl} = 1 \\ , \\ \\ \\text{for each} \\ i,l \n",
    "$$\n",
    "\n",
    "All shifts must be covered:\n",
    "$$\n",
    "\\sum_i \\sum_l x_{ikl}  \\geq  \\text{Demand}_{jk} \\ , \\ \\ \\text{for each} \\ k,j \n",
    "$$\n",
    "\n",
    "Employee availability constraint:\n",
    "$$\n",
    "x_{ikl} = 0 \\ , \\ \\ \\text{if $i$ is not available at time $k$ on day $l$}\n",
    "$$\n",
    "\n",
    "Consistency with employee preferences:\n",
    "$$\n",
    "\\sum_k p_{ij}\\cdot x_{ikl} \\geq \\text{Preference}_{il} \\ , \\ \\ \\text{for each} \\ i,l\n",
    "$$\n",
    "\n",
    "No overlapping shifts for employees:\n",
    "$$\n",
    "\\sum_j x_{ikl} \\leq 1 \\ , \\ \\ \\text{for each} \\ i,k,l\n",
    "$$\n",
    "\n",
    "\n",
    "\n"
   ]
  },
  {
   "cell_type": "markdown",
   "id": "0202a4d8",
   "metadata": {},
   "source": [
    "## Data"
   ]
  },
  {
   "cell_type": "markdown",
   "id": "d819cb09",
   "metadata": {},
   "source": [
    "Before we can begin with the sovling of the LP problem at the core of our project, we have to obtain the appropriate data. Obtaining the data for such a project is qutie difficult (TODO: clean up these paragraphs). So what we will resolve to do is generate the data ourselves."
   ]
  },
  {
   "cell_type": "markdown",
   "id": "5b41e58e",
   "metadata": {},
   "source": [
    "Row is an employee, where first column is their tier (0-3, junior, manager etc), second column is their vector of preferences. If they're unauthorized to do a specific task, that preference will be a 0."
   ]
  },
  {
   "cell_type": "markdown",
   "id": "a5ddbdf0",
   "metadata": {},
   "source": [
    "NEED ASSUMPTION section"
   ]
  },
  {
   "cell_type": "markdown",
   "id": "628ab857",
   "metadata": {},
   "source": [
    "Come back to availablity discussion (hourly vs daily etc)"
   ]
  },
  {
   "cell_type": "code",
   "execution_count": 2,
   "id": "00a31094",
   "metadata": {},
   "outputs": [
    {
     "name": "stdout",
     "output_type": "stream",
     "text": [
      "First five employees:\n",
      "Employee 1: Skill Level - junior, Task Preferences - [4, 3, 5, 0, 0, 0, 0]\n",
      "Employee 2: Skill Level - senior, Task Preferences - [3, 5, 4, 1, 2, 2, 0]\n",
      "Employee 3: Skill Level - junior, Task Preferences - [4, 1, 1, 0, 0, 0, 0]\n",
      "Employee 4: Skill Level - manager, Task Preferences - [2, 5, 4, 2, 1, 5, 1]\n",
      "Employee 5: Skill Level - entry-level, Task Preferences - [3, 2, 0, 0, 0, 0, 0]\n",
      "\n",
      "Last five employees:\n",
      "Employee 1: Skill Level - senior, Task Preferences - [1, 1, 2, 4, 3, 3, 0]\n",
      "Employee 2: Skill Level - junior, Task Preferences - [3, 5, 1, 0, 0, 0, 0]\n",
      "Employee 3: Skill Level - junior, Task Preferences - [1, 5, 3, 0, 0, 0, 0]\n",
      "Employee 4: Skill Level - entry-level, Task Preferences - [2, 3, 0, 0, 0, 0, 0]\n",
      "Employee 5: Skill Level - entry-level, Task Preferences - [4, 3, 0, 0, 0, 0, 0]\n"
     ]
    }
   ],
   "source": [
    "import numpy as np\n",
    "import random\n",
    "import csv\n",
    "\n",
    "def generate_employee_data_custom_distribution(num_employees, skill_levels, tasks_with_min_levels, distribution):\n",
    "    employees_data = []\n",
    "    \n",
    "    # Calculate the number of employees in each skill level based on the distribution\n",
    "    num_employees_distribution = {level: int(pct * num_employees) for level, pct in distribution.items()}\n",
    "    \n",
    "    # Adjust for any rounding differences to ensure the total count matches num_employees\n",
    "    while sum(num_employees_distribution.values()) < num_employees:\n",
    "        num_employees_distribution[random.choice(list(num_employees_distribution.keys()))] += 1\n",
    "        \n",
    "    # Generate data for each employee based on the distribution\n",
    "    for skill_level_label, count in num_employees_distribution.items():\n",
    "        skill_level = skill_levels[skill_level_label]\n",
    "        for _ in range(count):\n",
    "            task_preferences = []\n",
    "            for task, min_level in tasks_with_min_levels.items():\n",
    "                if skill_level >= min_level:\n",
    "                    preference_level = random.randint(1, 5)  # Assuming preference levels range from 1 to 5\n",
    "                else:\n",
    "                    preference_level = 0\n",
    "                task_preferences.append(preference_level)\n",
    "            employees_data.append((skill_level_label, task_preferences))\n",
    "    \n",
    "    # Shuffle the data to mix skill levels\n",
    "    random.shuffle(employees_data)\n",
    "    \n",
    "    return employees_data\n",
    "\n",
    "# Example usage\n",
    "skill_levels = {\"entry-level\": 0, \"junior\": 1, \"senior\": 2, \"manager\": 3}\n",
    "tasks_with_min_levels = {\n",
    "    \"Account opening\": 0,\n",
    "    \"Credit card application\": 0,\n",
    "    \"Loan Application\": 1,\n",
    "    \"Mortgage Consultation\": 2,\n",
    "    \"Retirement planning\": 2,\n",
    "    \"Financial advising\": 2,\n",
    "    \"Wealth management\": 3\n",
    "}\n",
    "\n",
    "distribution = {\n",
    "    \"entry-level\": 0.4,\n",
    "    \"junior\": 0.3,\n",
    "    \"senior\": 0.2,\n",
    "    \"manager\": 0.1\n",
    "}\n",
    "\n",
    "num_employees = 100\n",
    "employees_data = generate_employee_data_custom_distribution(num_employees, skill_levels, tasks_with_min_levels, distribution)\n",
    "\n",
    "# Output the first and last five employees\n",
    "first_five = employees_data[:5]\n",
    "last_five = employees_data[-5:]\n",
    "\n",
    "print(\"First five employees:\")\n",
    "for i, (skill, preferences) in enumerate(first_five):\n",
    "    print(f\"Employee {i+1}: Skill Level - {skill}, Task Preferences - {preferences}\")\n",
    "\n",
    "print(\"\\nLast five employees:\")\n",
    "for i, (skill, preferences) in enumerate(last_five):\n",
    "    print(f\"Employee {i+1}: Skill Level - {skill}, Task Preferences - {preferences}\")\n",
    "\n",
    "# Save to CSV file\n",
    "csv_file_path = \"employees_data.csv\"\n",
    "with open(csv_file_path, mode='w', newline='') as file:\n",
    "    writer = csv.writer(file)\n",
    "    writer.writerow([\"Skill Level\", \"Task Preferences\"])\n",
    "    for skill, preferences in employees_data:\n",
    "        writer.writerow([skill, preferences])\n"
   ]
  }
 ],
 "metadata": {
  "kernelspec": {
   "display_name": "Python 3 (ipykernel)",
   "language": "python",
   "name": "python3"
  },
  "language_info": {
   "codemirror_mode": {
    "name": "ipython",
    "version": 3
   },
   "file_extension": ".py",
   "mimetype": "text/x-python",
   "name": "python",
   "nbconvert_exporter": "python",
   "pygments_lexer": "ipython3",
   "version": "3.12.2"
  }
 },
 "nbformat": 4,
 "nbformat_minor": 5
}
