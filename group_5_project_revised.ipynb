{
 "cells": [
  {
   "cell_type": "markdown",
   "id": "cb000d8e-2e1a-45f0-998a-193405da6f0f",
   "metadata": {},
   "source": [
    "# MATH 441 Group 5 Project\n",
    "\n",
    "**Aziz, Mika, Spock**"
   ]
  },
  {
   "cell_type": "markdown",
   "id": "0378f912",
   "metadata": {},
   "source": [
    "# Project Title: Scheduling Employee to Shifts for a Bank"
   ]
  },
  {
   "cell_type": "markdown",
   "id": "7d3228c9",
   "metadata": {},
   "source": [
    "## 1) Introduction"
   ]
  },
  {
   "cell_type": "markdown",
   "id": "871d6ac2-30f4-46a8-aafa-27c525395052",
   "metadata": {},
   "source": [
    "**Problem Statement:**\n",
    "\n",
    "How can we assign employees to suitable shifts in a financial institution to minimize labor costs while considering employee skill levels and salary?\n",
    "\n",
    "**Relevant Real-world Examples:**\n",
    "\n",
    "* Study how employee is assigned to shifts in banks or financial institutions.\n",
    "* Explore existing optimization algorithms applied to employee scheduling problems.\n",
    "\n",
    "**Data and Computations:**\n",
    "\n",
    " Data:\n",
    "* Employee skill level.\n",
    "* Employee training level.\n",
    "* Employee salary.\n",
    "\n",
    "**Note**: In search of a suitable dataset to apply this optimization on, we will attempt to find relevant employee scheduling information from local organizations like banks, investment firms and other financial institutions. There are of course some difficulties when it comes to obtaining said data:\n",
    "1. Companies might not release such data publicly\n",
    "2. Needed data might not be formatted as expected\n",
    "3. A lack of data in general on employee scheduling\n",
    "\n",
    "We will attempt to remedy this through a few methods, such as reaching out to companies to obtain anonymous data, generate data based on a few known paramater distributions etc.\n"
   ]
  },
  {
   "cell_type": "markdown",
   "id": "99911b2f",
   "metadata": {},
   "source": [
    "But before we can start with the Data generation and LP solving procedures, we need to start by importing a few important libraries and modules, and performing any first-time setup necessary for the project."
   ]
  },
  {
   "cell_type": "markdown",
   "id": "c84ac191",
   "metadata": {},
   "source": [
    "## 1.5) Setting Up the Environment"
   ]
  },
  {
   "cell_type": "markdown",
   "id": "a815455a",
   "metadata": {},
   "source": [
    "First, install any required libraries."
   ]
  },
  {
   "cell_type": "code",
   "execution_count": null,
   "id": "734c33f3",
   "metadata": {},
   "outputs": [],
   "source": [
    "! pip3 install -r requirements.txt"
   ]
  },
  {
   "cell_type": "markdown",
   "id": "4a91097a",
   "metadata": {},
   "source": [
    "Now, let's import our common libraries."
   ]
  },
  {
   "cell_type": "code",
   "execution_count": null,
   "id": "8149015c",
   "metadata": {},
   "outputs": [],
   "source": [
    "import numpy as np\n",
    "import random\n",
    "import csv\n",
    "import pulp\n",
    "import pandas as pd "
   ]
  },
  {
   "cell_type": "markdown",
   "id": "8534a987",
   "metadata": {},
   "source": [
    "Finally, let's define and assign values where needed to any important constants and variables that are used globally within the project"
   ]
  },
  {
   "cell_type": "code",
   "execution_count": null,
   "id": "7e0d26c0",
   "metadata": {},
   "outputs": [],
   "source": [
    "employees_data = []\n",
    "num_employees = 10\n",
    "num_customer = 5\n",
    "\n",
    "skill_levels = {\"entry-level\": 0, \"junior\": 1, \"senior\": 2, \"manager\": 3}\n",
    "\n",
    "tasks_with_min_levels = {\n",
    "    \"Account opening\": 0,\n",
    "    \"Credit card application\": 0,\n",
    "    \"Loan Application\": 1,\n",
    "    \"Mortgage Consultation\": 2,\n",
    "    \"Retirement planning\": 2,\n",
    "    \"Financial advising\": 2,\n",
    "    \"Wealth management\": 3\n",
    "}\n",
    "\n",
    "distribution = {\n",
    "    \"entry-level\": 0.4,\n",
    "    \"junior\": 0.3,\n",
    "    \"senior\": 0.2,\n",
    "    \"manager\": 0.1\n",
    "}\n",
    "\n",
    "salary_weight = {\n",
    "    \"K\": 1000,\n",
    "    \"a\": 3,\n",
    "    \"b\": 5,\n",
    "    \"c\": 10,\n",
    "    \"d\": 35,\n",
    "}\n",
    "\n",
    "days = {\"Monday\": 0, \n",
    "        \"Tuesday\": 1, \n",
    "        \"Wednesday\": 2, \n",
    "        \"Thursday\": 3,\n",
    "        \"Friday\": 4\n",
    "}\n",
    "\n",
    "demand_distribution = {\n",
    "    \"Account opening\": 0.2,\n",
    "    \"Credit card application\": 0.15,\n",
    "    \"Loan Application\": 0.2,\n",
    "    \"Mortgage Consultation\": 0.1,\n",
    "    \"Retirement planning\": 0.2,\n",
    "    \"Financial advising\": 0.1,\n",
    "    \"Wealth management\": 0.05\n",
    "}\n",
    "\n",
    "day_label = ['Monday', 'Tuesday', 'Wednesday', 'Thursday', 'Friday']\n",
    "\n",
    "shift_label = ['Account opening', 'Credit card application', 'Loan Application', 'Mortgage Consultation', \n",
    "               'Retirement planning', 'Financial advising', 'Wealth management']\n",
    "\n",
    "enumerate_shift = {\n",
    "    'Account opening': 0, \n",
    "    'Credit card application': 1, \n",
    "    'Loan Application': 2, \n",
    "    'Mortgage Consultation': 3, \n",
    "    'Retirement planning': 4, \n",
    "    'Financial advising': 5, \n",
    "    'Wealth management': 6\n",
    "}"
   ]
  },
  {
   "cell_type": "code",
   "execution_count": null,
   "id": "870fef16",
   "metadata": {},
   "outputs": [],
   "source": [
    "# This is a function that will print the assignment of the employees for shifts at each weekdays\n",
    "def result(x, num_employees, day_label, shift_label):\n",
    "    df = pd.DataFrame(index=range(5), columns=range(7)).fillna('')\n",
    "    df = df.astype(str)\n",
    "\n",
    "    for i in range(num_employees):\n",
    "        for j in range(7):\n",
    "            for d in range(5):\n",
    "                if x[(i, j, d)].varValue == 1:\n",
    "                    df.at[d, j] += (',' if df.at[d, j] else '') + str(i+1)\n",
    "\n",
    "    df = df.fillna(' ')\n",
    "    df = df.rename(index=dict(zip(range(5), day_label)), columns=dict(zip(range(7), shift_label)))\n",
    "    \n",
    "    return df"
   ]
  },
  {
   "cell_type": "markdown",
   "id": "0202a4d8",
   "metadata": {},
   "source": [
    "## 2) Defining the parameters and variables of the scheduling problem"
   ]
  },
  {
   "cell_type": "markdown",
   "id": "d819cb09",
   "metadata": {},
   "source": [
    "Before we begin with the sovling of the integer programming problem at the core of our project, we need to first define our parameters and variables. The variables that we identify also need to be enumerated so we can use a python solver."
   ]
  },
  {
   "cell_type": "markdown",
   "id": "d5753734",
   "metadata": {},
   "source": [
    "**Parameter for the shifts**\n",
    "\n",
    "- Shift $j$: There are seven types of shifts, denoted as $1 \\leq j \\leq m$. There is a skill requirement for the employees to do each shift.\n",
    "    - 1 - Account opening - entry \n",
    "    - 2 - Credit card application - entry \n",
    "    - 3 - Loan Application - junior \n",
    "    - 4 - Mortgage Consultation - senior \n",
    "    - 5 - retirement planning - senior\n",
    "    - 6 - financial advising - senior\n",
    "    - 7 - wealth management - manager\n",
    "- Weekdays $w$: We will assume that all bank employees only work five days a week, so the days are enumerated to $0 \\leq w \\leq 4$\n",
    "    - 0 - Monday\n",
    "    - 1 - Tuesday\n",
    "    - 2 - Wednesday\n",
    "    - 3 - Thursday\n",
    "    - 4 - Friday\n",
    "- Demand $d_{jw}$: The demand for each weekdays are different for each type of shifts. We will use a random distribution for the demand. This will be an array of length 5, representing each weekdays, with a subarray of length 7, representing different type of shifts. For example: \n",
    "    - [[1,2,3,0,1,5,2], [0,0,2,3,4,3,2], [3,3,2,3,4,3,2], [5,5,3,4,5,3,2], [2,3,4,5,6,5,4]]: This shows that on Monday, there needs to be one employee assigned to account opening, two employee assigned to credit card application, and so on...\n",
    "\n",
    "**Parameter for employees**\n",
    "\n",
    "- Employee $i$: The employee id will be enumerated to $1 \\leq i \\leq n$. The employee data will also consist of their skill levels, training level, and salary.\n",
    "- Skill level $l$: The skills will be divided into four levels, $0 \\leq l\\leq 3$, which also represent what shift they are authorized to do.\n",
    "    - 0 - entry-level\n",
    "    - 1 - junior\n",
    "    - 2 - senior\n",
    "    - 3 - manager\n",
    "- Training level $t_{ij}$: This is an array of length n, the number of employees, with subarrays of length 7, the type of shifts. This represents the training level of each employee for different types of shift. The subarray contain seven values from 1 to 100. If the employee doesn't have the required skill to do the shift, the value will be set to 0. For example: \n",
    "    - Entry-level employee: [32,15,0,0,0,0,0]\n",
    "    - Senior level employee: [45,72,61,13,4,80,0]\n",
    "- Salary $s$: The salary of each employee is related to the training level. For entry-level employees who can only do shift one and two, their salary will be less if they are less trained. \n",
    "$$ \n",
    "s = k + a \\sum_i (t_{i,1} + t_{i,2}) + b \\sum_i t_{i,3} + c \\sum_i (t_{i,4} + t_{i,5} + t_{i,6}) + d \\sum_i t_{i,7}\n",
    "$$\n",
    "$$\n",
    "\\text{where $k,a,b,c,d$ are all real numbers, with $k$ as the base salary and $a,b,c,d$ as the weight on each type of shifts paid.}\n",
    "$$\n",
    "\n",
    "**Decision variables:**<br>\n",
    "- Let $x_{ijd} \\in {0,1}$ be a binary variable, where $x_{ijd} = 1$ if employee $i$ is assigned to shift $j$ at day $d$, and 0 otherwise."
   ]
  },
  {
   "cell_type": "markdown",
   "id": "64e34dc0",
   "metadata": {},
   "source": [
    "## 3) Data"
   ]
  },
  {
   "cell_type": "markdown",
   "id": "00006343-5e7d-4481-a2f8-b2b6ec65de4f",
   "metadata": {},
   "source": [
    "**Employee data**"
   ]
  },
  {
   "cell_type": "code",
   "execution_count": null,
   "id": "00a31094",
   "metadata": {},
   "outputs": [],
   "source": [
    "def generate_employee_data_custom_distribution(num_employees, skill_levels, tasks_with_min_levels, salary_weight, distribution):\n",
    "\n",
    "    # Calculate the number of employees in each skill level based on the distribution\n",
    "    num_employees_distribution = {level: int(pct * num_employees) for level, pct in distribution.items()}\n",
    "    \n",
    "    # Adjust for any rounding differences to ensure the total count matches num_employees\n",
    "    while sum(num_employees_distribution.values()) < num_employees:\n",
    "        num_employees_distribution[random.choice(list(num_employees_distribution.keys()))] += 1\n",
    "        \n",
    "    # Generate data for each employee based on the distribution\n",
    "    for skill_level_label, count in num_employees_distribution.items():\n",
    "        skill_level = skill_levels[skill_level_label]\n",
    "        for _ in range(count):\n",
    "            training_level_array = []\n",
    "            for task, min_level in tasks_with_min_levels.items():\n",
    "                if skill_level >= min_level:\n",
    "                    training_level = random.randint(1, 100)  # Training levels range from 1 to 100\n",
    "                else:\n",
    "                    training_level = 0\n",
    "                training_level_array.append(training_level)\n",
    "            salary = salary_weight[\"K\"] + salary_weight[\"a\"] * (training_level_array[0]+training_level_array[1]) \\\n",
    "            + salary_weight[\"b\"] * (training_level_array[2]) \\\n",
    "            + salary_weight[\"c\"] * (training_level_array[3]+training_level_array[4]+training_level_array[5]) \\\n",
    "            + salary_weight[\"d\"] * (training_level_array[6])\n",
    "            employees_data.append((skill_level_label, training_level_array, salary))\n",
    "    \n",
    "    # Shuffle the data to mix skill levels\n",
    "    random.shuffle(employees_data)\n",
    "    \n",
    "    return employees_data\n",
    "\n",
    "employees_data = generate_employee_data_custom_distribution(num_employees, skill_levels, tasks_with_min_levels, salary_weight, distribution)\n",
    "\n",
    "# Output the first and last five employees\n",
    "first_five = employees_data[:5]\n",
    "last_five = employees_data[-5:]\n",
    "\n",
    "print(\"First five employees:\")\n",
    "for i, (skill, training_level, salary) in enumerate(first_five):\n",
    "    print(f\"Employee {i + 1}: Skill Level - {skill}, Training level - {training_level}, Salary - {salary}\")\n",
    "\n",
    "print(\"\\nLast five employees:\")\n",
    "for i, (skill, training_level, salary) in enumerate(last_five):\n",
    "    print(f\"Employee {len(employees_data) - 4 + i}: Skill Level - {skill}, Training level - {training_level}, Salary - {salary}\")\n",
    "\n",
    "# Save to CSV file\n",
    "csv_file_path = \"employees_data.csv\"\n",
    "with open(csv_file_path, mode='w', newline='') as file:\n",
    "    writer = csv.writer(file)\n",
    "    writer.writerow([\"Skill Level\", \"Training level\", \"Salary\"])\n",
    "    for skill, training_level, salary in employees_data:\n",
    "        writer.writerow([skill, training_level, salary])"
   ]
  },
  {
   "cell_type": "markdown",
   "id": "e70b67e3",
   "metadata": {},
   "source": [
    "**Customer demand data**\n",
    "\n",
    "For each day, we need to decide how many customers demand for an appointment. Banks usually data from previous years to readily predict how many customers need employees with shift j in a day. Since we couldn't find any data related, we will generate a random number of customers for each shift depending on the distribution. We decided to distribute the shift j by 0.2, 0.15, 0.2, 0.1, 0.2, 0.1, 0.05 respectively. The distribution was created as demand_distribution in part 1.5. "
   ]
  },
  {
   "cell_type": "code",
   "execution_count": null,
   "id": "1ce36380",
   "metadata": {},
   "outputs": [],
   "source": [
    "def generate_customer_data_custom_distribution(max, days, distribution):\n",
    "    customer_data = []\n",
    "\n",
    "    for day, index in days.items():\n",
    "        # we would have a different number of customers demanded for each day from 0 to num_customer\n",
    "        num_customer = np.random.randint(0, max)\n",
    "\n",
    "        # calculate the number of customer in shifts based on the distribution\n",
    "        num_customer_distribution = {shift: int(pct * num_customer) for shift, pct in distribution.items()}\n",
    "        \n",
    "        # Adjust for any rounding differences to ensure the total count matches num_employees\n",
    "        while sum(num_customer_distribution.values()) < num_customer:\n",
    "            num_customer_distribution[random.choice(list(num_customer_distribution.keys()))] += 1\n",
    "\n",
    "        # for each shift, get the distribution\n",
    "        for shift_label, count in num_customer_distribution.items():\n",
    "            customer_data.append((day, shift_label, count))\n",
    "    \n",
    "    return customer_data\n",
    "\n",
    "customer_data = generate_customer_data_custom_distribution(num_customer, days, demand_distribution)\n",
    "\n",
    "# Output the first and last five customer\n",
    "first_five = customer_data[:5]\n",
    "last_five = customer_data[-5:]\n",
    "\n",
    "print(\"First five shift demand:\")\n",
    "for i, (day, shift, shift_demand) in enumerate(first_five):\n",
    "    print(f\"Shift {i+1}: Day - {day}, Shift - {shift}, Shift Demand - {shift_demand}\")\n",
    "\n",
    "print(\"\\nLast five shift demand:\")\n",
    "for i, (day, shift, shift_demand) in enumerate(last_five):\n",
    "    print(f\"Shift {i+1}: Day - {day}, Shift - {shift}, Shift Demand - {shift_demand}\")\n",
    "\n",
    "# Save to CSV file\n",
    "csv_file_path = \"customer_data.csv\"\n",
    "with open(csv_file_path, mode='w', newline='') as file:\n",
    "    writer = csv.writer(file)\n",
    "    writer.writerow([\"Day\", \"Shift\", \"Shift Demand\"])\n",
    "    for day, shift, shift_demand in customer_data:\n",
    "        writer.writerow([day, shift, shift_demand])"
   ]
  },
  {
   "cell_type": "markdown",
   "id": "acaef7e9",
   "metadata": {},
   "source": [
    "**Visualization of how many employees need to be assigned to a shift on each weekday**"
   ]
  },
  {
   "cell_type": "code",
   "execution_count": null,
   "id": "dbb495e8",
   "metadata": {},
   "outputs": [],
   "source": [
    "# enumerate the data, so it's easier to use\n",
    "customer = []\n",
    "\n",
    "shift = {\n",
    "    \"Account opening\": 0,\n",
    "    \"Credit card application\": 1,\n",
    "    \"Loan Application\": 2,\n",
    "    \"Mortgage Consultation\": 3,\n",
    "    \"Retirement planning\": 4,\n",
    "    \"Financial advising\": 5,\n",
    "    \"Wealth management\": 6\n",
    "}\n",
    "\n",
    "for data in customer_data:\n",
    "    # change days string to integer\n",
    "    day = days[data[0]]\n",
    "    # change shift string to integer\n",
    "    shift_type = shift[data[1]]\n",
    "    demand = data[2]\n",
    "    customer.append([day, shift_type, demand])"
   ]
  },
  {
   "cell_type": "code",
   "execution_count": null,
   "id": "adf0b9b9",
   "metadata": {},
   "outputs": [],
   "source": [
    "# rows as days and columns as shift types\n",
    "demand_df = pd.DataFrame()\n",
    "\n",
    "for day, shift, demand in customer:\n",
    "    demand_df.at[day, shift] = demand\n",
    "\n",
    "day_label = ['Monday', 'Tuesday', 'Wednesday', 'Thursday', 'Friday']\n",
    "shift_label = ['Account opening', 'Credit card application', 'Loan Application', 'Mortgage Consultation', \n",
    "               'Retirement planning', 'Financial advising', 'Wealth management']\n",
    "\n",
    "demand_df = demand_df.rename(index = dict(zip(range(5), day_label)), columns= dict(zip(range(7), shift_label)))\n",
    "demand_df "
   ]
  },
  {
   "cell_type": "markdown",
   "id": "1f2a6659-5159-4af4-9688-d36111ae17b1",
   "metadata": {},
   "source": [
    "## 4) Formulate the problem as a linear programming problem"
   ]
  },
  {
   "cell_type": "markdown",
   "id": "d6ebfc7f",
   "metadata": {},
   "source": [
    "To summarize our problem, each shift per day has a customer demand that we need to fulfill. The amount of customer demand determines how much employees we assign to the shift in each day and there are 7 different types of shift. We will assume that each employee can only be assign to at most one type of shift per day.\n",
    "\n",
    "Next, we need to assign shifts to employees in such a way that for each shift, we select employees with the highest training level for that shift, then choose an employee with lowest salary among the selected employees to assign this employee to the shift, aiming to minimize overall labor costs."
   ]
  },
  {
   "cell_type": "markdown",
   "id": "4a35abd0-e946-45ba-a266-f015418f3b04",
   "metadata": {},
   "source": [
    "**Objective:**<br>\n",
    "Minimize the total labor cost, which is the sum of the salaries of the assigned employees:\n",
    "$$\n",
    "\\sum_i \\sum_j \\sum_d x_{ijd} \\times \\text{s$_i$}\n",
    "$$\n",
    "$$\n",
    "\\text{where s$_i$ is the salary of employee $i$.}\n",
    "$$\n",
    "\n",
    "**Constraints:**\n",
    "\n",
    "1) An employee can be assigned to at most one shift for each day:\n",
    "$$\n",
    "\\sum_i \\sum_d x_{ijd}  \\leq  1 \\ , \\ \\ \\text{for all shift} \\ j\n",
    "$$\n",
    "\n",
    "2) Ensure that only employees with the required skill level can be assigned to shifts:\n",
    "$$\n",
    "x_{ijd} = 0 \\ , \\ \\ \\text{if employee $i$ does not have the required skull level for shift $j$}\n",
    "$$\n",
    "\n",
    "Now, incorporating the additional requirement of selecting the employee with the highest training level and lowest salary for each shift, we add the following constraints:\n",
    "\n",
    "3) For each shift, select the employee with the highest training level:\n",
    "$$\n",
    "\\sum_d \\sum_i t_{ij}\\times x_{ijd} = \\max{\\{t_{i'j}| i'\\text{ has the required skill level for shift } j\\}}\n",
    "$$\n",
    "$$\n",
    "\\text{where $t_{ij}$ is the training level of employee $i$ for shift $j$.}\n",
    "$$\n",
    "\n",
    "4) Ensure that the selected employee has the lowest salary among those with the highest training level for each shift:\n",
    "$$\n",
    "\\sum_d \\sum_i s_{i}\\times x_{ijd} = \\min{\\{s_{i'}| i'\\text{ has the highest training level for shift } j\\}}\n",
    "$$\n",
    "$$\n",
    "\\text{where $s_{i}$ is the salary of employee $i$.}\n",
    "$$\n",
    "\n",
    "5) Each shifts has the required number of employees at day d\n",
    "$$\\sum_i x_{ijd} = d_{jd}, \\ \\ \\text{for all shifts} \\ j, \\ \\ \\text{for all days} \\ d$$\n",
    "\n"
   ]
  },
  {
   "cell_type": "markdown",
   "id": "123f764d",
   "metadata": {},
   "source": [
    "## 5) Python Implementation Using Pulp"
   ]
  },
  {
   "cell_type": "code",
   "execution_count": null,
   "id": "34699e87-c4db-4970-a281-d507e63abdd0",
   "metadata": {},
   "outputs": [],
   "source": [
    "salaries = [employee[2] for employee in employees_data]\n",
    "skill_prob = pulp.LpProblem(\"Shift_Assignment\", pulp.LpMinimize)\n",
    "x = pulp.LpVariable.dicts(\"x\", [(i, j, d) for i in range(num_employees) for j in range(7) for d in range(5)], cat=\"Binary\")\n",
    "skill_prob += pulp.lpSum(x[i, j, d] * salaries[i] for i in range(num_employees) for j in range(7) for d in range(5))\n",
    "\n",
    "# get the demand at day d for shift j\n",
    "d_jw = np.zeros((5,7))\n",
    "for day, shift, demand in customer:\n",
    "    d_jw[day, shift] = demand\n",
    "\n",
    "# An employee can be assigned to at most one shift at day d\n",
    "for i in range(num_employees):\n",
    "    for d in range(5):\n",
    "        skill_prob += pulp.lpSum(x[i, j, d] for j in range(7)) <= 1\n",
    "\n",
    "# Each shifts has the required number of employees at day d\n",
    "for d in range(5):\n",
    "    for j in range(7):\n",
    "        skill_prob += pulp.lpSum(x[i, j, d] for i in range(num_employees)) == d_jw[d, j]\n",
    "\n",
    "### New Constraint:\n",
    "\n",
    "## introduce new variable\n",
    "# minimum skill level for each pair weekday d and shift type j\n",
    "z  = {}\n",
    "for day, shift, demand in customer_data:\n",
    "    z[(enumerate_shift[shift])] = tasks_with_min_levels[shift]\n",
    "\n",
    "# Constraint: Ensure that only employees with the required skill level can be assigned to shifts\n",
    "for i in range(num_employees):\n",
    "    for j in range(7):\n",
    "       for d in range(5):\n",
    "            # if skill level of employee i is not as high as skill required to do shift j\n",
    "            if skill_levels[employees_data[i][0]] < z[(j)]:\n",
    "                # don't assign employee i to shift j at any day d\n",
    "                skill_prob += x[i, j, d] == 0\n",
    "\n",
    "skill_prob.solve()\n",
    "print(\"Status:\", pulp.LpStatus[skill_prob.status])"
   ]
  },
  {
   "cell_type": "code",
   "execution_count": null,
   "id": "f81d6362",
   "metadata": {},
   "outputs": [],
   "source": [
    "result(x, num_employees, day_label, shift_label)"
   ]
  },
  {
   "cell_type": "markdown",
   "id": "b22c65f4",
   "metadata": {},
   "source": [
    "### Implementation of restricted training level"
   ]
  },
  {
   "cell_type": "code",
   "execution_count": null,
   "id": "4f55cb02",
   "metadata": {},
   "outputs": [],
   "source": [
    "### Previous set-up:\n",
    "prob = pulp.LpProblem(\"Shift_Assignment\", pulp.LpMinimize)\n",
    "x = pulp.LpVariable.dicts(\"x\", [(i, j, d) for i in range(num_employees) for j in range(7) for d in range(5)], cat=\"Binary\")\n",
    "prob += pulp.lpSum(x[i, j, d] * salaries[i] for i in range(num_employees) for j in range(7) for d in range(5))\n",
    "\n",
    "# get the demand at day d for shift j\n",
    "d_jw = np.zeros((5,7))\n",
    "for day, shift, demand in customer:\n",
    "    d_jw[day, shift] = demand\n",
    "\n",
    "# An employee can be assigned to at most one shift at day d\n",
    "for i in range(num_employees):\n",
    "    for d in range(5):\n",
    "        prob += pulp.lpSum(x[i, j, d] for j in range(7)) <= 1\n",
    "\n",
    "# Each shifts has the required number of employees at day d\n",
    "for d in range(5):\n",
    "    for j in range(7):\n",
    "        prob += pulp.lpSum(x[i, j, d] for i in range(num_employees)) == d_jw[d, j]\n",
    "\n",
    "# Constraint: Ensure that only employees with the required skill level can be assigned to shifts\n",
    "for i in range(num_employees):\n",
    "    for j in range(7):\n",
    "       for d in range(5):\n",
    "            # if skill level of employee i is not as high as skill required to do shift j\n",
    "            if skill_levels[employees_data[i][0]] < z[(j)]:\n",
    "                # don't assign employee i to shift j at any day d\n",
    "                skill_prob += x[i, j, d] == 0\n",
    "\n",
    "### New Constraints\n",
    "\n",
    "# Constraint: For each shift, select the employee with the highest training level\n",
    "for j in range(7):\n",
    "        prob += pulp.lpSum(skill_levels[employees_data[i][0]] * x[i, j, d] for i in range(num_employees)) == \n",
    "        max(training_levels[i][j] for i in range(num_employees) if skill_levels[i] >= required_skill_levels[j] for d in range(5))\n",
    "\n",
    "# Constraint: Ensure that the selected employee has the lowest salary among those with the highest training level\n",
    "for j in range(7):\n",
    "    prob += pulp.lpSum(salaries[i] * x[i, j, d] for i in range(num_employees)) == \n",
    "    min(salaries[i] for i in range(num_employees) if training_levels[i][j] == max(training_levels[i][j] \n",
    "    for i in range(num_employees) if skill_levels[i] >= required_skill_levels[j]) for d in range(5))\n",
    "\n",
    "prob.solve()\n",
    "print(\"Status:\", pulp.LpStatus[prob.status])"
   ]
  },
  {
   "cell_type": "markdown",
   "id": "768512b6",
   "metadata": {},
   "source": [
    "## 6) Solution"
   ]
  },
  {
   "cell_type": "code",
   "execution_count": null,
   "id": "eec31f98",
   "metadata": {},
   "outputs": [],
   "source": [
    "solution_df = result(x, num_employees, day_label, shift_label)"
   ]
  }
 ],
 "metadata": {
  "kernelspec": {
   "display_name": "Python 3 (ipykernel)",
   "language": "python",
   "name": "python3"
  },
  "language_info": {
   "codemirror_mode": {
    "name": "ipython",
    "version": 3
   },
   "file_extension": ".py",
   "mimetype": "text/x-python",
   "name": "python",
   "nbconvert_exporter": "python",
   "pygments_lexer": "ipython3",
   "version": "3.11.5"
  }
 },
 "nbformat": 4,
 "nbformat_minor": 5
}
