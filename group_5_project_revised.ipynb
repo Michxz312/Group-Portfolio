{
 "cells": [
  {
   "cell_type": "markdown",
   "id": "cb000d8e-2e1a-45f0-998a-193405da6f0f",
   "metadata": {},
   "source": [
    "# MATH 441 Group 5 Project\n",
    "\n",
    "**Aziz, Mika, Spock**"
   ]
  },
  {
   "cell_type": "markdown",
   "id": "871d6ac2-30f4-46a8-aafa-27c525395052",
   "metadata": {},
   "source": [
    "## 1) Project Title: Assigning Employee to Shifts for a Financial Institution\n",
    "\n",
    "**Problem Statement:**\n",
    "\n",
    "How can we assign employees to suitable shifts in a financial institution to minimize labor costs while considering employee skill levels and salary?\n",
    "\n",
    "**Relevant Real-world Examples:**\n",
    "\n",
    "* Study how employee is assigned to shifts in banks or financial institutions.\n",
    "* Explore existing optimization algorithms applied to employee scheduling problems.\n",
    "\n",
    "**Data and Computations:**\n",
    "\n",
    " Data:\n",
    "* Employee skill level.\n",
    "* Employee training level.\n",
    "* Employee salary.\n",
    "\n",
    "**Note**: In search of a suitable dataset to apply this optimization on, we will attempt to find relevant employee scheduling information from local organizations like banks, investment firms and other financial institutions. There are of course some difficulties when it comes to obtaining said data:\n",
    "1. Companies might not release such data publicly\n",
    "2. Needed data might not be formatted as expected\n",
    "3. A lack of data in general on employee scheduling\n",
    "\n",
    "We will attempt to remedy this through a few methods, such as reaching out to companies to obtain anonymous data, generate data based on a few known paramater distributions etc.\n"
   ]
  },
  {
   "cell_type": "markdown",
   "id": "99911b2f",
   "metadata": {},
   "source": [
    "## 1.5) Setting Up the Environment\n",
    "\n",
    "But before we can start with the Data generation and LP solving procedures, we need to start by importing a few important libraries and modules, and performing any first-time setup necessary for the project."
   ]
  },
  {
   "cell_type": "markdown",
   "id": "a815455a",
   "metadata": {},
   "source": [
    "First, install any required libraries."
   ]
  },
  {
   "cell_type": "code",
   "execution_count": 13,
   "id": "734c33f3",
   "metadata": {},
   "outputs": [
    {
     "name": "stdout",
     "output_type": "stream",
     "text": [
      "Requirement already satisfied: numpy in /Library/Frameworks/Python.framework/Versions/3.13/lib/python3.13/site-packages (from -r requirements.txt (line 1)) (1.26.4)\n",
      "Requirement already satisfied: pulp in /Library/Frameworks/Python.framework/Versions/3.13/lib/python3.13/site-packages (from -r requirements.txt (line 2)) (2.8.0)\n"
     ]
    }
   ],
   "source": [
    "! pip3 install -r requirements.txt"
   ]
  },
  {
   "cell_type": "markdown",
   "id": "4a91097a",
   "metadata": {},
   "source": [
    "Now, let's import our common libraries."
   ]
  },
  {
   "cell_type": "code",
   "execution_count": 14,
   "id": "8149015c",
   "metadata": {},
   "outputs": [],
   "source": [
    "import numpy as np\n",
    "import random\n",
    "import csv\n",
    "import pulp"
   ]
  },
  {
   "cell_type": "markdown",
   "id": "8534a987",
   "metadata": {},
   "source": [
    "Finally, let's define and assign values where needed to any important constants and variables that are used globally within the project"
   ]
  },
  {
   "cell_type": "code",
   "execution_count": 15,
   "id": "7e0d26c0",
   "metadata": {},
   "outputs": [],
   "source": [
    "employees_data = []\n",
    "num_employees = 100\n",
    "num_shifts=100\n",
    "\n",
    "skill_levels = {\"entry-level\": 0, \"junior\": 1, \"senior\": 2, \"manager\": 3}\n",
    "tasks_with_min_levels = {\n",
    "    \"Account opening\": 0,\n",
    "    \"Credit card application\": 0,\n",
    "    \"Loan Application\": 1,\n",
    "    \"Mortgage Consultation\": 2,\n",
    "    \"Retirement planning\": 2,\n",
    "    \"Financial advising\": 2,\n",
    "    \"Wealth management\": 3\n",
    "}\n",
    "\n",
    "distribution = {\n",
    "    \"entry-level\": 0.4,\n",
    "    \"junior\": 0.3,\n",
    "    \"senior\": 0.2,\n",
    "    \"manager\": 0.1\n",
    "}\n",
    "\n",
    "salary_weight = {\n",
    "    \"K\": 1000,\n",
    "    \"a\": 3,\n",
    "    \"b\": 5,\n",
    "    \"c\": 10,\n",
    "    \"d\": 35,\n",
    "}"
   ]
  },
  {
   "cell_type": "markdown",
   "id": "0202a4d8",
   "metadata": {},
   "source": [
    "## 2) Data"
   ]
  },
  {
   "cell_type": "markdown",
   "id": "d819cb09",
   "metadata": {},
   "source": [
    "Before we begin with the sovling of the LP problem at the core of our project, we need to first define our data."
   ]
  },
  {
   "cell_type": "markdown",
   "id": "56326f9b-d8b5-417d-bb5c-61cf6246de10",
   "metadata": {},
   "source": [
    "**Defining the types of shift S and what skill levels are needed**\n",
    "\n",
    "1. Account opening - entry \n",
    "2. Credit card application - entry \n",
    "3. Loan Application - junior \n",
    "4. Mortgage Consultation - senior \n",
    "5. retirement planning - senior\n",
    "6. financial advising - senior\n",
    "7. wealth management - manager\n",
    "\n",
    "**Defining employee skill levels**\n",
    "\n",
    "* 0 - entry-level\n",
    "* 1 - junior\n",
    "* 2 - senior\n",
    "* 3 - manager\n",
    "\n",
    "**Constraints**\n",
    "\n",
    "- An employee with entry-level skill cannot do a shift that requires junior level or higher\n",
    "- An employee with junior-level skill cannot do a shift that requires senior level or higher\n",
    "- An employee with senior-level skill cannot do a shift that requires manager level\n",
    "\n",
    "**Defining labor cost by training level of employee** "
   ]
  },
  {
   "cell_type": "markdown",
   "id": "d6a99d20-0d94-44eb-b3b2-1b67b69bf9b8",
   "metadata": {},
   "source": [
    "Each employee data is an array consisting of the following three elements:<br>\n",
    "\n",
    "#### Skill level:\n",
    "A number ranging from 0-3, representing what shifts they are authorized to do<br>\n",
    "#### Training level:\n",
    "An array consisting of 7 numbers ranging from 1-100, showing the training level of the employee on each shifts.<br>\n",
    "For those shifts that the employee is not authorized to do, the training level will be set to 0.<br>\n",
    "For example:<br>\n",
    "An entry-level employee will be something like [32,15,0,0,0,0,0];<br>\n",
    "and a senior employee will be something like [45,72,61,13,4,80,0].\n",
    "\n",
    "#### Salary:\n",
    "The salary of each employee is related to their training level.<br>\n",
    "Below is the salary formula I randomly make up:<br>\n",
    "$$\n",
    "\\text{Salary}=K + a\\times (\\text{Sum of Training level of shift 1,2}) + b\\times (\\text{Training level of shift 3}) + c\\times (\\text{Sum of Training level of shift 4,5,6}) + d\\times (\\text{Sum of Training level of shift 7})\n",
    "$$\n",
    "$$\n",
    "\\text{where $K,a,b,c,d$ are all real numbers, with $K$ as the base salary and $a,b,c,d$ as the weight on each type of shifts paid.}\n",
    "$$"
   ]
  },
  {
   "cell_type": "markdown",
   "id": "84945eb2-b67f-44cf-9a7f-62820e89386d",
   "metadata": {},
   "source": [
    "**To summuraise our problem,<br>\n",
    "we have a certain amount of all the 7 types of shifts that need to assign exactly 1 employee for each shift.**\n",
    "\n",
    "**We want to assign shifts to employees in such a way that for each shift,<br>\n",
    "we select employees with the highest training level for that shift,<br>\n",
    "then choose an employee with lowest salary among the selected employees to assign this employee to the shift,<br>\n",
    "aiming to minimize overall labor costs.**"
   ]
  },
  {
   "cell_type": "markdown",
   "id": "00006343-5e7d-4481-a2f8-b2b6ec65de4f",
   "metadata": {},
   "source": [
    "Below is the data that we generate."
   ]
  },
  {
   "cell_type": "code",
   "execution_count": 5,
   "id": "00a31094",
   "metadata": {},
   "outputs": [
    {
     "name": "stdout",
     "output_type": "stream",
     "text": [
      "First five employees:\n",
      "Employee 1: Skill Level - entry-level, Training level - [53, 4, 0, 0, 0, 0, 0], Salary - 1171\n",
      "Employee 2: Skill Level - entry-level, Training level - [29, 98, 0, 0, 0, 0, 0], Salary - 1381\n",
      "Employee 3: Skill Level - junior, Training level - [28, 40, 22, 0, 0, 0, 0], Salary - 1314\n",
      "Employee 4: Skill Level - entry-level, Training level - [63, 34, 0, 0, 0, 0, 0], Salary - 1291\n",
      "Employee 5: Skill Level - senior, Training level - [12, 83, 97, 69, 9, 33, 0], Salary - 2880\n",
      "\n",
      "Last five employees:\n",
      "Employee 1: Skill Level - senior, Training level - [65, 75, 34, 2, 65, 22, 0], Salary - 2480\n",
      "Employee 2: Skill Level - junior, Training level - [38, 25, 86, 0, 0, 0, 0], Salary - 1619\n",
      "Employee 3: Skill Level - senior, Training level - [49, 96, 36, 29, 83, 18, 0], Salary - 2915\n",
      "Employee 4: Skill Level - entry-level, Training level - [63, 11, 0, 0, 0, 0, 0], Salary - 1222\n",
      "Employee 5: Skill Level - entry-level, Training level - [15, 44, 0, 0, 0, 0, 0], Salary - 1177\n"
     ]
    }
   ],
   "source": [
    "def generate_employee_data_custom_distribution(num_employees, skill_levels, tasks_with_min_levels, salary_weight, distribution):\n",
    "\n",
    "    # Calculate the number of employees in each skill level based on the distribution\n",
    "    num_employees_distribution = {level: int(pct * num_employees) for level, pct in distribution.items()}\n",
    "    \n",
    "    # Adjust for any rounding differences to ensure the total count matches num_employees\n",
    "    while sum(num_employees_distribution.values()) < num_employees:\n",
    "        num_employees_distribution[random.choice(list(num_employees_distribution.keys()))] += 1\n",
    "        \n",
    "    # Generate data for each employee based on the distribution\n",
    "    for skill_level_label, count in num_employees_distribution.items():\n",
    "        skill_level = skill_levels[skill_level_label]\n",
    "        for _ in range(count):\n",
    "            training_level_array = []\n",
    "            for task, min_level in tasks_with_min_levels.items():\n",
    "                if skill_level >= min_level:\n",
    "                    training_level = random.randint(1, 100)  # Training levels range from 1 to 100\n",
    "                else:\n",
    "                    training_level = 0\n",
    "                training_level_array.append(training_level)\n",
    "            salary = salary_weight[\"K\"] + salary_weight[\"a\"] * (training_level_array[0]+training_level_array[1]) \\\n",
    "            + salary_weight[\"b\"] * (training_level_array[2]) \\\n",
    "            + salary_weight[\"c\"] * (training_level_array[3]+training_level_array[4]+training_level_array[5]) \\\n",
    "            + salary_weight[\"d\"] * (training_level_array[6])\n",
    "            employees_data.append((skill_level_label, training_level_array, salary))\n",
    "    \n",
    "    # Shuffle the data to mix skill levels\n",
    "    random.shuffle(employees_data)\n",
    "    \n",
    "    return employees_data\n",
    "\n",
    "employees_data = generate_employee_data_custom_distribution(num_employees, skill_levels, tasks_with_min_levels, salary_weight, distribution)\n",
    "\n",
    "# Output the first and last five employees\n",
    "first_five = employees_data[:5]\n",
    "last_five = employees_data[-5:]\n",
    "\n",
    "print(\"First five employees:\")\n",
    "for i, (skill, training_level, salary) in enumerate(first_five):\n",
    "    print(f\"Employee {i+1}: Skill Level - {skill}, Training level - {training_level}, Salary - {salary}\")\n",
    "\n",
    "print(\"\\nLast five employees:\")\n",
    "for i, (skill, training_level, salary) in enumerate(last_five):\n",
    "    print(f\"Employee {i+1}: Skill Level - {skill}, Training level - {training_level}, Salary - {salary}\")\n",
    "\n",
    "# Save to CSV file\n",
    "csv_file_path = \"employees_data.csv\"\n",
    "with open(csv_file_path, mode='w', newline='') as file:\n",
    "    writer = csv.writer(file)\n",
    "    writer.writerow([\"Skill Level\", \"Training level\", \"Salary\"])\n",
    "    for skill, training_level, salary in employees_data:\n",
    "        writer.writerow([skill, training_level, salary])\n"
   ]
  },
  {
   "cell_type": "markdown",
   "id": "1f2a6659-5159-4af4-9688-d36111ae17b1",
   "metadata": {},
   "source": [
    "## 3) Formulate the problem as a linear programming problem"
   ]
  },
  {
   "cell_type": "markdown",
   "id": "4a35abd0-e946-45ba-a266-f015418f3b04",
   "metadata": {},
   "source": [
    "**Decision variables:**<br>\n",
    "Let $x_{ij} \\in {0,1}$ be a binary variable, where $x_{ij} = 1$ if employee $i$ is assigned to shift $j$, and 0 otherwise.\n",
    "\n",
    "**Objective:**<br>\n",
    "Minimize the total labor cost, which is the sum of the salaries of the assigned employees:\n",
    "$$\n",
    "\\sum_i \\sum_j x_{ij} \\times \\text{Salary$_i$}\n",
    "$$\n",
    "$$\n",
    "\\text{where Salary$_i$ is the salary of employee $i$.}\n",
    "$$\n",
    "\n",
    "**Constraints:**\n",
    "\n",
    "1) Each shift must be assigned to exactly one employee:\n",
    "$$\n",
    "\\sum_i x_{ij} = 1 \\ , \\ \\ \\text{for all shifts} \\ j\n",
    "$$\n",
    "\n",
    "2) An employee can be assigned to at most one shift:\n",
    "$$\n",
    "\\sum_j x_{ij}  \\leq  1 \\ , \\ \\ \\text{for all employees} \\ i\n",
    "$$\n",
    "\n",
    "3) Ensure that only employees with the required skill level can be assigned to shifts:\n",
    "$$\n",
    "x_{ij} = 0 \\ , \\ \\ \\text{if employee $i$ does not have the required skull level for shift $j$}\n",
    "$$\n",
    "\n",
    "Now, incorporating the additional requirement of selecting the employee with the highest training level and lowest salary for each shift, we add the following constraints:\n",
    "\n",
    "4) For each shift, select the employee with the highest training level:\n",
    "$$\n",
    "\\sum_i t_{ij}\\times x_{ij} = \\max{\\{t_{i'j}| i'\\text{ has the required skill level for shift } j\\}}\n",
    "$$\n",
    "$$\n",
    "\\text{where $t_{ij}$ is the training level of employee $i$ for shift $j$.}\n",
    "$$\n",
    "\n",
    "4) Ensure that the selected employee has the lowest salary among those with the highest training level for each shift:\n",
    "$$\n",
    "\\sum_i s_{i}\\times x_{ij} = \\min{\\{s_{i'}| i'\\text{ has the highest training level for shift } j\\}}\n",
    "$$\n",
    "$$\n",
    "\\text{where $s_{i}$ is the salary of employee $i$.}\n",
    "$$\n",
    "\n",
    "\n",
    "\n"
   ]
  },
  {
   "cell_type": "code",
   "execution_count": 7,
   "id": "2b48e309-2668-40ac-8072-36bb8c66422b",
   "metadata": {},
   "outputs": [],
   "source": [
    "# Create a LP minimization problem\n",
    "prob = pulp.LpProblem(\"Shift_Assignment\", pulp.LpMinimize)"
   ]
  },
  {
   "cell_type": "code",
   "execution_count": 9,
   "id": "10c9e9bb-241f-4db3-80df-51a7159b203c",
   "metadata": {},
   "outputs": [
    {
     "name": "stdout",
     "output_type": "stream",
     "text": [
      "[14.  0. 19. 19. 20.  9. 19.]\n"
     ]
    }
   ],
   "source": [
    "# Create shifts data set\n",
    "# A shifts data set is an array containing of 7 integers summing up to 100,\n",
    "# indicating how many employee needs to be assigned for each seven type of shifts accordingly\n",
    "\n",
    "totals = num_shifts\n",
    "\n",
    "a = np.random.random(7)\n",
    "a = a/np.sum(a) * totals\n",
    "\n",
    "a = np.round(a)  # transform them into integers\n",
    "remainings = totals - np.sum(a)  # check if there are corrections to be done\n",
    "if remainings != 0:\n",
    "     i = np.random.randint(7)\n",
    "     if a[i] + step >= 0:\n",
    "          a[i] += step\n",
    "          r -= step\n",
    "\n",
    "shifts_data = a\n",
    "print(shifts_data)"
   ]
  },
  {
   "cell_type": "code",
   "execution_count": 10,
   "id": "dd0bd77a-5c37-4fb7-810c-6d1f8e4b84ad",
   "metadata": {},
   "outputs": [],
   "source": [
    "# Define binary decision variables\n",
    "# x_ij = 1 if employee i is assigned to shift j, 0 otherwise\n",
    "x = pulp.LpVariable.dicts(\"Assignment\", \n",
    "                          [(i, j) for i in range(num_employees) for j in range(num_shifts)], \n",
    "                          cat='Binary')"
   ]
  },
  {
   "cell_type": "code",
   "execution_count": 11,
   "id": "129af3dc-2423-4dbb-9a9e-db52f772c8cf",
   "metadata": {},
   "outputs": [],
   "source": [
    "salaries = [employee[2] for employee in employees_data]\n",
    "# print(salaries)"
   ]
  },
  {
   "cell_type": "code",
   "execution_count": 12,
   "id": "34699e87-c4db-4970-a281-d507e63abdd0",
   "metadata": {},
   "outputs": [
    {
     "name": "stdout",
     "output_type": "stream",
     "text": [
      "Unexpected exception formatting exception. Falling back to standard exception\n"
     ]
    },
    {
     "name": "stderr",
     "output_type": "stream",
     "text": [
      "Traceback (most recent call last):\n",
      "  File \"/Library/Frameworks/Python.framework/Versions/3.13/lib/python3.13/site-packages/IPython/core/interactiveshell.py\", line 3577, in run_code\n",
      "    exec(code_obj, self.user_global_ns, self.user_ns)\n",
      "    ~~~~^^^^^^^^^^^^^^^^^^^^^^^^^^^^^^^^^^^^^^^^^^^^^\n",
      "  File \"/var/folders/6q/5qhtmmcj4gb0q8sdnb6kbpy80000gn/T/ipykernel_13707/2905547645.py\", line 15, in <module>\n",
      "    if skill_levels[i] < required_skill_levels[j]:\n",
      "       ~~~~~~~~~~~~^^^\n",
      "KeyError: 0\n",
      "\n",
      "During handling of the above exception, another exception occurred:\n",
      "\n",
      "Traceback (most recent call last):\n",
      "  File \"/Library/Frameworks/Python.framework/Versions/3.13/lib/python3.13/site-packages/IPython/core/interactiveshell.py\", line 2168, in showtraceback\n",
      "    stb = self.InteractiveTB.structured_traceback(\n",
      "          ~~~~~~~~~~~~~~~~~~~~~~~~~~~~~~~~~~~~~~~^\n",
      "        etype, value, tb, tb_offset=tb_offset\n",
      "        ^^^^^^^^^^^^^^^^^^^^^^^^^^^^^^^^^^^^^\n",
      "    )\n",
      "    ^\n",
      "  File \"/Library/Frameworks/Python.framework/Versions/3.13/lib/python3.13/site-packages/IPython/core/ultratb.py\", line 1454, in structured_traceback\n",
      "    return FormattedTB.structured_traceback(\n",
      "           ~~~~~~~~~~~~~~~~~~~~~~~~~~~~~~~~^\n",
      "        self, etype, evalue, etb, tb_offset, number_of_lines_of_context\n",
      "        ^^^^^^^^^^^^^^^^^^^^^^^^^^^^^^^^^^^^^^^^^^^^^^^^^^^^^^^^^^^^^^^\n",
      "    )\n",
      "    ^\n",
      "  File \"/Library/Frameworks/Python.framework/Versions/3.13/lib/python3.13/site-packages/IPython/core/ultratb.py\", line 1345, in structured_traceback\n",
      "    return VerboseTB.structured_traceback(\n",
      "           ~~~~~~~~~~~~~~~~~~~~~~~~~~~~~~^\n",
      "        self, etype, value, tb, tb_offset, number_of_lines_of_context\n",
      "        ^^^^^^^^^^^^^^^^^^^^^^^^^^^^^^^^^^^^^^^^^^^^^^^^^^^^^^^^^^^^^\n",
      "    )\n",
      "    ^\n",
      "  File \"/Library/Frameworks/Python.framework/Versions/3.13/lib/python3.13/site-packages/IPython/core/ultratb.py\", line 1192, in structured_traceback\n",
      "    formatted_exception = self.format_exception_as_a_whole(etype, evalue, etb, number_of_lines_of_context,\n",
      "                          ~~~~~~~~~~~~~~~~~~~~~~~~~~~~~~~~^^^^^^^^^^^^^^^^^^^^^^^^^^^^^^^^^^^^^^^^^^^^^^^^\n",
      "                                                           tb_offset)\n",
      "                                                           ^^^^^^^^^^\n",
      "  File \"/Library/Frameworks/Python.framework/Versions/3.13/lib/python3.13/site-packages/IPython/core/ultratb.py\", line 1082, in format_exception_as_a_whole\n",
      "    self.get_records(etb, number_of_lines_of_context, tb_offset) if etb else []\n",
      "    ~~~~~~~~~~~~~~~~^^^^^^^^^^^^^^^^^^^^^^^^^^^^^^^^^^^^^^^^^^^^\n",
      "  File \"/Library/Frameworks/Python.framework/Versions/3.13/lib/python3.13/site-packages/IPython/core/ultratb.py\", line 1179, in get_records\n",
      "    res = list(stack_data.FrameInfo.stack_data(etb, options=options))[tb_offset:]\n",
      "          ~~~~^^^^^^^^^^^^^^^^^^^^^^^^^^^^^^^^^^^^^^^^^^^^^^^^^^^^^^^\n",
      "  File \"/Library/Frameworks/Python.framework/Versions/3.13/lib/python3.13/site-packages/stack_data/core.py\", line 597, in stack_data\n",
      "    yield from collapse_repeated(\n",
      "    ...<4 lines>...\n",
      "    )\n",
      "  File \"/Library/Frameworks/Python.framework/Versions/3.13/lib/python3.13/site-packages/stack_data/utils.py\", line 83, in collapse_repeated\n",
      "    yield from map(mapper, original_group)\n",
      "  File \"/Library/Frameworks/Python.framework/Versions/3.13/lib/python3.13/site-packages/stack_data/core.py\", line 587, in mapper\n",
      "    return cls(f, options)\n",
      "           ~~~^^^^^^^^^^^^\n",
      "  File \"/Library/Frameworks/Python.framework/Versions/3.13/lib/python3.13/site-packages/stack_data/core.py\", line 551, in __init__\n",
      "    self.executing = Source.executing(frame_or_tb)\n",
      "                     ~~~~~~~~~~~~~~~~^^^^^^^^^^^^^\n",
      "  File \"/Library/Frameworks/Python.framework/Versions/3.13/lib/python3.13/site-packages/executing/executing.py\", line 283, in executing\n",
      "    assert_(new_stmts <= stmts)\n",
      "    ~~~~~~~^^^^^^^^^^^^^^^^^^^^\n",
      "  File \"/Library/Frameworks/Python.framework/Versions/3.13/lib/python3.13/site-packages/executing/executing.py\", line 80, in assert_\n",
      "    raise AssertionError(str(message))\n",
      "AssertionError\n"
     ]
    }
   ],
   "source": [
    "# Define the objective function (total labor cost)\n",
    "prob += pulp.lpSum(x[i, j] * salaries[i] for i in range(num_employees) for j in range(num_shifts))\n",
    "\n",
    "# Constraint: Each shift must be assigned to exactly one employee\n",
    "for j in range(num_shifts):\n",
    "    prob += pulp.lpSum(x[i, j] for i in range(num_employees)) == 1\n",
    "\n",
    "# Constraint: An employee can be assigned to at most one shift\n",
    "for i in range(num_employees):\n",
    "    prob += pulp.lpSum(x[i, j] for j in range(num_shifts)) <= 1\n",
    "\n",
    "# Constraint: Ensure that only employees with the required skill level can be assigned to shifts\n",
    "for i in range(num_employees):\n",
    "    for j in range(num_shifts):\n",
    "        if skill_levels[i] < required_skill_levels[j]:\n",
    "            prob += x[i, j] == 0\n",
    "\n",
    "# Constraint: For each shift, select the employee with the highest training level\n",
    "for j in range(num_shifts):\n",
    "    prob += pulp.lpSum(training_levels[i][j] * x[i, j] for i in range(num_employees)) == max(training_levels[i][j] for i in range(num_employees) if skill_levels[i] >= required_skill_levels[j])\n",
    "\n",
    "# Constraint: Ensure that the selected employee has the lowest salary among those with the highest training level\n",
    "for j in range(num_shifts):\n",
    "    prob += pulp.lpSum(salaries[i] * x[i, j] for i in range(num_employees)) == min(salaries[i] for i in range(num_employees) if training_levels[i][j] == max(training_levels[i][j] for i in range(num_employees) if skill_levels[i] >= required_skill_levels[j]))"
   ]
  },
  {
   "cell_type": "code",
   "execution_count": 23,
   "id": "015d2900-d2dd-40fb-b360-1f3dec7f4baa",
   "metadata": {},
   "outputs": [
    {
     "data": {
      "text/plain": [
       "[('senior', [89, 70, 81, 38, 15, 37, 0], 2782),\n",
       " ('junior', [76, 67, 13, 0, 0, 0, 0], 1494),\n",
       " ('manager', [98, 54, 67, 21, 41, 52, 67], 5276),\n",
       " ('junior', [17, 44, 45, 0, 0, 0, 0], 1408),\n",
       " ('junior', [84, 85, 60, 0, 0, 0, 0], 1807),\n",
       " ('manager', [11, 93, 97, 71, 57, 96, 1], 4072),\n",
       " ('entry-level', [96, 80, 0, 0, 0, 0, 0], 1528),\n",
       " ('junior', [96, 82, 46, 0, 0, 0, 0], 1764),\n",
       " ('manager', [25, 80, 10, 14, 81, 7, 26], 3295),\n",
       " ('junior', [68, 2, 17, 0, 0, 0, 0], 1295),\n",
       " ('entry-level', [70, 13, 0, 0, 0, 0, 0], 1249),\n",
       " ('entry-level', [79, 31, 0, 0, 0, 0, 0], 1330),\n",
       " ('entry-level', [37, 91, 0, 0, 0, 0, 0], 1384),\n",
       " ('junior', [73, 37, 75, 0, 0, 0, 0], 1705),\n",
       " ('entry-level', [60, 19, 0, 0, 0, 0, 0], 1237),\n",
       " ('senior', [5, 91, 66, 52, 67, 60, 0], 3408),\n",
       " ('entry-level', [21, 18, 0, 0, 0, 0, 0], 1117),\n",
       " ('manager', [13, 5, 14, 96, 79, 43, 84], 6244),\n",
       " ('entry-level', [98, 37, 0, 0, 0, 0, 0], 1405),\n",
       " ('entry-level', [20, 46, 0, 0, 0, 0, 0], 1198),\n",
       " ('entry-level', [24, 3, 0, 0, 0, 0, 0], 1081),\n",
       " ('senior', [2, 73, 85, 26, 23, 90, 0], 3040),\n",
       " ('senior', [40, 27, 65, 76, 91, 57, 0], 3766),\n",
       " ('entry-level', [45, 36, 0, 0, 0, 0, 0], 1243),\n",
       " ('entry-level', [40, 99, 0, 0, 0, 0, 0], 1417),\n",
       " ('entry-level', [89, 88, 0, 0, 0, 0, 0], 1531),\n",
       " ('senior', [62, 50, 31, 45, 82, 76, 0], 3521),\n",
       " ('junior', [57, 52, 62, 0, 0, 0, 0], 1637),\n",
       " ('junior', [14, 78, 35, 0, 0, 0, 0], 1451),\n",
       " ('senior', [19, 1, 12, 21, 39, 54, 0], 2260),\n",
       " ('entry-level', [49, 92, 0, 0, 0, 0, 0], 1423),\n",
       " ('entry-level', [69, 2, 0, 0, 0, 0, 0], 1213),\n",
       " ('junior', [95, 16, 36, 0, 0, 0, 0], 1513),\n",
       " ('junior', [21, 4, 13, 0, 0, 0, 0], 1140),\n",
       " ('entry-level', [48, 80, 0, 0, 0, 0, 0], 1384),\n",
       " ('entry-level', [74, 71, 0, 0, 0, 0, 0], 1435),\n",
       " ('senior', [63, 46, 23, 27, 78, 6, 0], 2552),\n",
       " ('junior', [33, 40, 99, 0, 0, 0, 0], 1714),\n",
       " ('entry-level', [17, 98, 0, 0, 0, 0, 0], 1345),\n",
       " ('entry-level', [59, 79, 0, 0, 0, 0, 0], 1414),\n",
       " ('junior', [64, 67, 98, 0, 0, 0, 0], 1883),\n",
       " ('senior', [10, 88, 23, 51, 52, 40, 0], 2839),\n",
       " ('junior', [75, 52, 79, 0, 0, 0, 0], 1776),\n",
       " ('senior', [12, 85, 12, 29, 92, 59, 0], 3151),\n",
       " ('junior', [61, 23, 58, 0, 0, 0, 0], 1542),\n",
       " ('junior', [100, 92, 69, 0, 0, 0, 0], 1921),\n",
       " ('entry-level', [7, 78, 0, 0, 0, 0, 0], 1255),\n",
       " ('entry-level', [8, 78, 0, 0, 0, 0, 0], 1258),\n",
       " ('entry-level', [10, 34, 0, 0, 0, 0, 0], 1132),\n",
       " ('junior', [49, 61, 32, 0, 0, 0, 0], 1490),\n",
       " ('entry-level', [59, 100, 0, 0, 0, 0, 0], 1477),\n",
       " ('junior', [30, 54, 19, 0, 0, 0, 0], 1347),\n",
       " ('senior', [78, 31, 11, 19, 22, 6, 0], 1852),\n",
       " ('entry-level', [82, 17, 0, 0, 0, 0, 0], 1297),\n",
       " ('senior', [34, 7, 27, 26, 76, 80, 0], 3078),\n",
       " ('junior', [73, 89, 41, 0, 0, 0, 0], 1691),\n",
       " ('junior', [8, 79, 70, 0, 0, 0, 0], 1611),\n",
       " ('senior', [48, 3, 6, 2, 50, 77, 0], 2473),\n",
       " ('junior', [49, 11, 31, 0, 0, 0, 0], 1335),\n",
       " ('entry-level', [42, 39, 0, 0, 0, 0, 0], 1243),\n",
       " ('entry-level', [13, 74, 0, 0, 0, 0, 0], 1261),\n",
       " ('senior', [8, 44, 99, 31, 29, 83, 0], 3081),\n",
       " ('junior', [57, 14, 83, 0, 0, 0, 0], 1628),\n",
       " ('entry-level', [32, 21, 0, 0, 0, 0, 0], 1159),\n",
       " ('entry-level', [32, 25, 0, 0, 0, 0, 0], 1171),\n",
       " ('entry-level', [9, 99, 0, 0, 0, 0, 0], 1324),\n",
       " ('entry-level', [1, 8, 0, 0, 0, 0, 0], 1027),\n",
       " ('senior', [68, 90, 68, 65, 81, 99, 0], 4264),\n",
       " ('junior', [82, 34, 35, 0, 0, 0, 0], 1523),\n",
       " ('manager', [30, 46, 79, 88, 19, 94, 4], 3773),\n",
       " ('entry-level', [41, 50, 0, 0, 0, 0, 0], 1273),\n",
       " ('senior', [91, 48, 59, 74, 26, 43, 0], 3142),\n",
       " ('entry-level', [42, 94, 0, 0, 0, 0, 0], 1408),\n",
       " ('junior', [54, 94, 55, 0, 0, 0, 0], 1719),\n",
       " ('entry-level', [30, 11, 0, 0, 0, 0, 0], 1123),\n",
       " ('junior', [83, 65, 19, 0, 0, 0, 0], 1539),\n",
       " ('junior', [65, 16, 56, 0, 0, 0, 0], 1523),\n",
       " ('manager', [66, 26, 40, 96, 74, 71, 80], 6686),\n",
       " ('entry-level', [24, 76, 0, 0, 0, 0, 0], 1300),\n",
       " ('entry-level', [44, 42, 0, 0, 0, 0, 0], 1258),\n",
       " ('senior', [80, 75, 30, 40, 72, 8, 0], 2815),\n",
       " ('junior', [88, 61, 61, 0, 0, 0, 0], 1752),\n",
       " ('senior', [91, 74, 50, 76, 63, 6, 0], 3195),\n",
       " ('junior', [30, 1, 67, 0, 0, 0, 0], 1428),\n",
       " ('manager', [29, 35, 72, 24, 67, 52, 57], 4977),\n",
       " ('senior', [92, 91, 43, 50, 64, 92, 0], 3824),\n",
       " ('entry-level', [77, 47, 0, 0, 0, 0, 0], 1372),\n",
       " ('junior', [15, 80, 44, 0, 0, 0, 0], 1505),\n",
       " ('entry-level', [38, 100, 0, 0, 0, 0, 0], 1414),\n",
       " ('senior', [89, 85, 42, 23, 5, 30, 0], 2312),\n",
       " ('entry-level', [69, 34, 0, 0, 0, 0, 0], 1309),\n",
       " ('manager', [75, 23, 53, 4, 6, 31, 5], 2144),\n",
       " ('entry-level', [11, 89, 0, 0, 0, 0, 0], 1300),\n",
       " ('junior', [41, 83, 82, 0, 0, 0, 0], 1782),\n",
       " ('manager', [59, 4, 59, 10, 82, 88, 99], 6749),\n",
       " ('senior', [10, 65, 31, 67, 27, 23, 0], 2550),\n",
       " ('manager', [52, 47, 36, 91, 100, 86, 69], 6662),\n",
       " ('junior', [10, 28, 20, 0, 0, 0, 0], 1214),\n",
       " ('entry-level', [10, 63, 0, 0, 0, 0, 0], 1219),\n",
       " ('entry-level', [13, 81, 0, 0, 0, 0, 0], 1282)]"
      ]
     },
     "execution_count": 23,
     "metadata": {},
     "output_type": "execute_result"
    }
   ],
   "source": [
    "employees_data"
   ]
  }
 ],
 "metadata": {
  "kernelspec": {
   "display_name": "Python 3 (ipykernel)",
   "language": "python",
   "name": "python3"
  },
  "language_info": {
   "codemirror_mode": {
    "name": "ipython",
    "version": 3
   },
   "file_extension": ".py",
   "mimetype": "text/x-python",
   "name": "python",
   "nbconvert_exporter": "python",
   "pygments_lexer": "ipython3",
   "version": "3.13.0a4"
  }
 },
 "nbformat": 4,
 "nbformat_minor": 5
}
